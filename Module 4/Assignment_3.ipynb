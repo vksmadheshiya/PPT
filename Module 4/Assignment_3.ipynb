{
 "cells": [
  {
   "cell_type": "markdown",
   "metadata": {},
   "source": [
    "1. Scenario: A company wants to analyze the sales performance of its products in different regions. They have collected the following data:\n",
    "Region A: [10, 15, 12, 8, 14]\n",
    "Region B: [18, 20, 16, 22, 25]\n",
    "Calculate the mean sales for each region."
   ]
  },
  {
   "cell_type": "code",
   "execution_count": 1,
   "metadata": {},
   "outputs": [
    {
     "name": "stdout",
     "output_type": "stream",
     "text": [
      "Mean Sales Region A Sales :  11.8\n",
      "Mean Sales Region B Sales :  20.2\n"
     ]
    }
   ],
   "source": [
    "from statistics import median\n",
    "\n",
    "def mean_sales(arr):\n",
    "    return sum(arr)/len(arr)\n",
    "\n",
    "Region_A =  [10, 15, 12, 8, 14]\n",
    "Region_B = [18, 20, 16, 22, 25]\n",
    "print(\"Mean Sales Region A Sales : \", mean_sales(Region_A))\n",
    "print(\"Mean Sales Region B Sales : \",mean_sales(Region_B))"
   ]
  },
  {
   "cell_type": "markdown",
   "metadata": {},
   "source": [
    "2. Scenario: A survey is conducted to measure customer satisfaction on a scale of 1 to 5. The data collected is as follows:\n",
    "[4, 5, 2, 3, 5, 4, 3, 2, 4, 5]\n",
    "Calculate the mode of the survey responses."
   ]
  },
  {
   "cell_type": "code",
   "execution_count": 9,
   "metadata": {},
   "outputs": [
    {
     "name": "stdout",
     "output_type": "stream",
     "text": [
      "4\n",
      "4\n"
     ]
    }
   ],
   "source": [
    "from collections import Counter\n",
    "\n",
    "def mode(arr):\n",
    "    arr.sort()\n",
    "    data_count = Counter(arr)\n",
    "    return data_count.most_common(1)[0][0]\n",
    "    \n",
    "print(mode([4, 5, 2, 3, 5, 4, 3, 2, 4, 5]))\n",
    "\n",
    "# or\n",
    "\n",
    "from statistics import mode\n",
    "print(mode([4, 5, 2, 3, 5, 4, 3, 2, 4, 5]))"
   ]
  },
  {
   "cell_type": "markdown",
   "metadata": {},
   "source": [
    "3. Scenario: A company wants to compare the salaries of two departments. The salary data for Department A and Department B are as follows:\n",
    "\n",
    "Department A: [5000, 6000, 5500, 7000]\n",
    "\n",
    "Department B: [4500, 5500, 5800, 6000, 5200]\n",
    "\n",
    "Calculate the median salary for each department."
   ]
  },
  {
   "cell_type": "code",
   "execution_count": 21,
   "metadata": {},
   "outputs": [
    {
     "name": "stdout",
     "output_type": "stream",
     "text": [
      "5750.0\n",
      "5500\n",
      "5750.0\n",
      "5500\n"
     ]
    }
   ],
   "source": [
    "def meadian(arr):\n",
    "    arr.sort()\n",
    "    arr_len = len(arr)\n",
    "    if arr_len%2!=0:\n",
    "        return arr[(arr_len+1)//2 -1]\n",
    "    else:\n",
    "        summ = arr[arr_len//2 -1] + arr[arr_len//2]\n",
    "        return summ/2\n",
    "    \n",
    "print(meadian([5000, 6000, 5500, 7000]))\n",
    "print(meadian([4500, 5500, 5800, 6000, 5200]))\n",
    "\n",
    "# or\n",
    "from statistics import median\n",
    "\n",
    "print(meadian([5000, 6000, 5500, 7000]))\n",
    "print(meadian([4500, 5500, 5800, 6000, 5200]))"
   ]
  },
  {
   "cell_type": "markdown",
   "metadata": {},
   "source": [
    "4. Scenario: A data analyst wants to determine the variability in the daily stock prices of a company. The data collected is as follows:\n",
    "\n",
    "[25.5, 24.8, 26.1, 25.3, 24.9]\n",
    "\n",
    "Calculate the range of the stock prices."
   ]
  },
  {
   "cell_type": "code",
   "execution_count": 19,
   "metadata": {},
   "outputs": [
    {
     "data": {
      "text/plain": [
       "0.2720000000000007"
      ]
     },
     "execution_count": 19,
     "metadata": {},
     "output_type": "execute_result"
    }
   ],
   "source": [
    "from statistics import variance\n",
    "variance([25.5, 24.8, 26.1, 25.3, 24.9])"
   ]
  },
  {
   "cell_type": "markdown",
   "metadata": {},
   "source": [
    "5. Scenario: A study is conducted to compare the performance of two different teaching methods. The test scores of the students in each group are as follows:\n",
    "Group A: [85, 90, 92, 88, 91]\n",
    "Group B: [82, 88, 90, 86, 87]\n",
    "Perform a t-test to determine if there is a significant difference in the mean scores between the two groups."
   ]
  },
  {
   "cell_type": "code",
   "execution_count": 23,
   "metadata": {},
   "outputs": [
    {
     "name": "stdout",
     "output_type": "stream",
     "text": [
      "1.4312528946642733 0.19023970239078333\n"
     ]
    }
   ],
   "source": [
    "from scipy.stats import ttest_1samp\n",
    "from scipy.stats import ttest_ind\n",
    "\n",
    "Group_A = [85, 90, 92, 88, 91]\n",
    "Group_B = [82, 88, 90, 86, 87]\n",
    "t_stat, p_value = ttest_ind(Group_A, Group_B)\n",
    "print(t_stat, p_value)"
   ]
  },
  {
   "cell_type": "markdown",
   "metadata": {},
   "source": [
    "6. Scenario: A company wants to analyze the relationship between advertising expenditure and sales. The data collected is as follows:\n",
    "\n",
    "Advertising Expenditure (in thousands): [10, 15, 12, 8, 14]\n",
    "\n",
    "Sales (in thousands): [25, 30, 28, 20, 26]\n",
    "\n",
    "Calculate the correlation coefficient between advertising expenditure and sales."
   ]
  },
  {
   "cell_type": "code",
   "execution_count": 27,
   "metadata": {},
   "outputs": [
    {
     "name": "stdout",
     "output_type": "stream",
     "text": [
      "[[ 8.2   9.45]\n",
      " [ 9.45 14.2 ]]\n",
      "0.8757511375750133 0.05158319418821717\n",
      "0.8999999999999998 0.03738607346849874\n"
     ]
    }
   ],
   "source": [
    "# Correlation\n",
    "from numpy import cov\n",
    "adv_expn =[10, 15, 12, 8, 14]\n",
    "sales = [25, 30, 28, 20, 26]\n",
    "covariance = cov(adv_expn, sales)\n",
    "print(covariance)\n",
    "\n",
    "# Pearson Correlation\n",
    "from scipy.stats import pearsonr\n",
    "\n",
    "corr, _ = pearsonr(adv_expn, sales)\n",
    "print(corr, _)\n",
    "\n",
    "# Spearman Correlation\n",
    "from scipy.stats import spearmanr\n",
    "corr, _ = spearmanr(adv_expn, sales)\n",
    "print(corr, _)"
   ]
  },
  {
   "cell_type": "markdown",
   "metadata": {},
   "source": [
    "7. Scenario: A survey is conducted to measure the heights of a group of people. The data collected is as follows:\n",
    "\n",
    "[160, 170, 165, 155, 175, 180, 170]\n",
    "\n",
    "Calculate the standard deviation of the heights."
   ]
  },
  {
   "cell_type": "code",
   "execution_count": 28,
   "metadata": {},
   "outputs": [
    {
     "name": "stdout",
     "output_type": "stream",
     "text": [
      "8.591246929842246\n"
     ]
    }
   ],
   "source": [
    "data = [160, 170, 165, 155, 175, 180, 170]\n",
    "\n",
    "from statistics import stdev\n",
    "\n",
    "print(stdev(data))"
   ]
  },
  {
   "cell_type": "markdown",
   "metadata": {},
   "source": [
    "\n",
    "8. Scenario: A company wants to analyze the relationship between employee tenure and job satisfaction. The data collected is as follows:\n",
    "\n",
    "Employee Tenure (in years): [2, 3, 5, 4, 6, 2, 4]\n",
    "\n",
    "Job Satisfaction (on a scale of 1 to 10): [7, 8, 6, 9, 5, 7, 6]\n",
    "\n",
    "Perform a linear regression analysis to predict job satisfaction based on employee tenure."
   ]
  },
  {
   "cell_type": "code",
   "execution_count": 31,
   "metadata": {},
   "outputs": [
    {
     "name": "stdout",
     "output_type": "stream",
     "text": [
      "(5, 1)\n"
     ]
    }
   ],
   "source": [
    "import numpy as np\n",
    "from sklearn.model_selection import train_test_split\n",
    "X = np.array([2, 3, 5, 4, 6, 2, 4])\n",
    "y = np.array([7, 8, 6, 9, 5, 7, 6])\n",
    "X_train, X_test, y_train, y_test = train_test_split( X, y, train_size = 0.8, test_size = 0.2)\n",
    "X_train = X_train.reshape(-1, 1)\n",
    "print(X_train.shape)"
   ]
  },
  {
   "cell_type": "code",
   "execution_count": 32,
   "metadata": {},
   "outputs": [
    {
     "data": {
      "text/html": [
       "<style>#sk-container-id-1 {color: black;background-color: white;}#sk-container-id-1 pre{padding: 0;}#sk-container-id-1 div.sk-toggleable {background-color: white;}#sk-container-id-1 label.sk-toggleable__label {cursor: pointer;display: block;width: 100%;margin-bottom: 0;padding: 0.3em;box-sizing: border-box;text-align: center;}#sk-container-id-1 label.sk-toggleable__label-arrow:before {content: \"▸\";float: left;margin-right: 0.25em;color: #696969;}#sk-container-id-1 label.sk-toggleable__label-arrow:hover:before {color: black;}#sk-container-id-1 div.sk-estimator:hover label.sk-toggleable__label-arrow:before {color: black;}#sk-container-id-1 div.sk-toggleable__content {max-height: 0;max-width: 0;overflow: hidden;text-align: left;background-color: #f0f8ff;}#sk-container-id-1 div.sk-toggleable__content pre {margin: 0.2em;color: black;border-radius: 0.25em;background-color: #f0f8ff;}#sk-container-id-1 input.sk-toggleable__control:checked~div.sk-toggleable__content {max-height: 200px;max-width: 100%;overflow: auto;}#sk-container-id-1 input.sk-toggleable__control:checked~label.sk-toggleable__label-arrow:before {content: \"▾\";}#sk-container-id-1 div.sk-estimator input.sk-toggleable__control:checked~label.sk-toggleable__label {background-color: #d4ebff;}#sk-container-id-1 div.sk-label input.sk-toggleable__control:checked~label.sk-toggleable__label {background-color: #d4ebff;}#sk-container-id-1 input.sk-hidden--visually {border: 0;clip: rect(1px 1px 1px 1px);clip: rect(1px, 1px, 1px, 1px);height: 1px;margin: -1px;overflow: hidden;padding: 0;position: absolute;width: 1px;}#sk-container-id-1 div.sk-estimator {font-family: monospace;background-color: #f0f8ff;border: 1px dotted black;border-radius: 0.25em;box-sizing: border-box;margin-bottom: 0.5em;}#sk-container-id-1 div.sk-estimator:hover {background-color: #d4ebff;}#sk-container-id-1 div.sk-parallel-item::after {content: \"\";width: 100%;border-bottom: 1px solid gray;flex-grow: 1;}#sk-container-id-1 div.sk-label:hover label.sk-toggleable__label {background-color: #d4ebff;}#sk-container-id-1 div.sk-serial::before {content: \"\";position: absolute;border-left: 1px solid gray;box-sizing: border-box;top: 0;bottom: 0;left: 50%;z-index: 0;}#sk-container-id-1 div.sk-serial {display: flex;flex-direction: column;align-items: center;background-color: white;padding-right: 0.2em;padding-left: 0.2em;position: relative;}#sk-container-id-1 div.sk-item {position: relative;z-index: 1;}#sk-container-id-1 div.sk-parallel {display: flex;align-items: stretch;justify-content: center;background-color: white;position: relative;}#sk-container-id-1 div.sk-item::before, #sk-container-id-1 div.sk-parallel-item::before {content: \"\";position: absolute;border-left: 1px solid gray;box-sizing: border-box;top: 0;bottom: 0;left: 50%;z-index: -1;}#sk-container-id-1 div.sk-parallel-item {display: flex;flex-direction: column;z-index: 1;position: relative;background-color: white;}#sk-container-id-1 div.sk-parallel-item:first-child::after {align-self: flex-end;width: 50%;}#sk-container-id-1 div.sk-parallel-item:last-child::after {align-self: flex-start;width: 50%;}#sk-container-id-1 div.sk-parallel-item:only-child::after {width: 0;}#sk-container-id-1 div.sk-dashed-wrapped {border: 1px dashed gray;margin: 0 0.4em 0.5em 0.4em;box-sizing: border-box;padding-bottom: 0.4em;background-color: white;}#sk-container-id-1 div.sk-label label {font-family: monospace;font-weight: bold;display: inline-block;line-height: 1.2em;}#sk-container-id-1 div.sk-label-container {text-align: center;}#sk-container-id-1 div.sk-container {/* jupyter's `normalize.less` sets `[hidden] { display: none; }` but bootstrap.min.css set `[hidden] { display: none !important; }` so we also need the `!important` here to be able to override the default hidden behavior on the sphinx rendered scikit-learn.org. See: https://github.com/scikit-learn/scikit-learn/issues/21755 */display: inline-block !important;position: relative;}#sk-container-id-1 div.sk-text-repr-fallback {display: none;}</style><div id=\"sk-container-id-1\" class=\"sk-top-container\"><div class=\"sk-text-repr-fallback\"><pre>LinearRegression()</pre><b>In a Jupyter environment, please rerun this cell to show the HTML representation or trust the notebook. <br />On GitHub, the HTML representation is unable to render, please try loading this page with nbviewer.org.</b></div><div class=\"sk-container\" hidden><div class=\"sk-item\"><div class=\"sk-estimator sk-toggleable\"><input class=\"sk-toggleable__control sk-hidden--visually\" id=\"sk-estimator-id-1\" type=\"checkbox\" checked><label for=\"sk-estimator-id-1\" class=\"sk-toggleable__label sk-toggleable__label-arrow\">LinearRegression</label><div class=\"sk-toggleable__content\"><pre>LinearRegression()</pre></div></div></div></div></div>"
      ],
      "text/plain": [
       "LinearRegression()"
      ]
     },
     "execution_count": 32,
     "metadata": {},
     "output_type": "execute_result"
    }
   ],
   "source": [
    "from sklearn.linear_model import LinearRegression\n",
    "lr = LinearRegression()\n",
    "lr.fit(X_train, y_train)\n",
    "# print(lr.score(X_test.reshape(-1,1), y_test))\n"
   ]
  },
  {
   "cell_type": "markdown",
   "metadata": {},
   "source": [
    "\n",
    "9. Scenario: A study is conducted to compare the effectiveness of two different medications. The recovery times of the patients in each group are as follows:\n",
    "\n",
    "Medication A: [10, 12, 14, 11, 13]\n",
    "\n",
    "Medication B: [15, 17, 16, 14, 18]\n",
    "\n",
    "Perform an analysis of variance (ANOVA) to determine if there is a significant difference in the mean recovery times between the two medications."
   ]
  },
  {
   "cell_type": "code",
   "execution_count": 39,
   "metadata": {},
   "outputs": [
    {
     "name": "stdout",
     "output_type": "stream",
     "text": [
      "16.0 0.003949772803445326\n"
     ]
    }
   ],
   "source": [
    "from scipy.stats import f_oneway\n",
    "Medication_A = [10, 12, 14, 11, 13]\n",
    "Medication_B =  [15, 17, 16, 14, 18]\n",
    "statistic ,pvalue =  f_oneway(Medication_A, Medication_B)\n",
    "print(statistic ,pvalue)"
   ]
  },
  {
   "cell_type": "markdown",
   "metadata": {},
   "source": [
    "10. Scenario: A company wants to analyze customer feedback ratings on a scale of 1 to 10. The data collected is as follows:\n",
    "[8, 9, 7, 6, 8, 10, 9, 8, 7, 8]\n",
    "Calculate the 75th percentile of the feedback ratings."
   ]
  },
  {
   "cell_type": "code",
   "execution_count": 41,
   "metadata": {},
   "outputs": [
    {
     "name": "stdout",
     "output_type": "stream",
     "text": [
      "75th percentile of arr :  8.75\n"
     ]
    }
   ],
   "source": [
    "\n",
    "data = [8, 9, 7, 6, 8, 10, 9, 8, 7, 8]\n",
    "print(\"75th percentile of arr : \", np.percentile(data, 75))"
   ]
  },
  {
   "cell_type": "markdown",
   "metadata": {},
   "source": [
    "11. Scenario: A quality control department wants to test the weight consistency of a product. The weights of a sample of products are as follows:\n",
    "[10.2, 9.8, 10.0, 10.5, 10.3, 10.1]\n",
    "Perform a hypothesis test to determine if the mean weight differs significantly from 10 grams."
   ]
  },
  {
   "cell_type": "code",
   "execution_count": 43,
   "metadata": {},
   "outputs": [
    {
     "name": "stdout",
     "output_type": "stream",
     "text": [
      "1.5126584522688367 0.19077595151110102\n"
     ]
    }
   ],
   "source": [
    "from scipy.stats import ttest_1samp\n",
    "sample = [10.2, 9.8, 10.0, 10.5, 10.3, 10.1]\n",
    "t_stat, p_value = ttest_1samp(sample, popmean=10)\n",
    "print(t_stat, p_value)"
   ]
  },
  {
   "cell_type": "markdown",
   "metadata": {},
   "source": [
    "12. Scenario: A company wants to analyze the click-through rates of two different website designs. The number of clicks for each design is as follows:\n",
    "\n",
    "Design A: [100, 120, 110, 90, 95]\n",
    "\n",
    "Design B: [80, 85, 90, 95, 100]\n",
    "\n",
    "Perform a chi-square test to determine if there is a significant difference in the click-through rates between the two designs."
   ]
  },
  {
   "cell_type": "code",
   "execution_count": 44,
   "metadata": {},
   "outputs": [
    {
     "name": "stdout",
     "output_type": "stream",
     "text": [
      "p value is 0.19103526314060293\n",
      "Independent (H0 holds true)\n"
     ]
    }
   ],
   "source": [
    "from scipy.stats import chi2_contingency\n",
    "\n",
    "# defining the table\n",
    "data = [[100, 120, 110, 90, 95], [80, 85, 90, 95, 100]]\n",
    "stat, p, dof, expected = chi2_contingency(data)\n",
    "\n",
    "# interpret p-value\n",
    "alpha = 0.05\n",
    "print(\"p value is \" + str(p))\n",
    "if p <= alpha:\n",
    "\tprint('Dependent (reject H0)')\n",
    "else:\n",
    "\tprint('Independent (H0 holds true)')\n"
   ]
  },
  {
   "cell_type": "markdown",
   "metadata": {},
   "source": [
    "13. Scenario: A survey is conducted to measure customer satisfaction with a product on a scale of 1 to 10. The data collected is as follows:\n",
    "\n",
    "[7, 9, 6, 8, 10, 7, 8, 9, 7, 8]\n",
    "\n",
    "Calculate the 95% confidence interval for the population mean satisfaction score."
   ]
  },
  {
   "cell_type": "code",
   "execution_count": 45,
   "metadata": {},
   "outputs": [
    {
     "name": "stderr",
     "output_type": "stream",
     "text": [
      "C:\\Users\\amarj\\AppData\\Local\\Temp\\ipykernel_12576\\1308124937.py:7: DeprecationWarning: Use of keyword argument 'alpha' for method 'interval' is deprecated and wil be removed in SciPy 1.11.0. Use first positional argument or keyword argument 'confidence' instead.\n",
      "  st.t.interval(alpha=0.95,\n"
     ]
    },
    {
     "data": {
      "text/plain": [
       "(7.043561120599888, 8.756438879400113)"
      ]
     },
     "execution_count": 45,
     "metadata": {},
     "output_type": "execute_result"
    }
   ],
   "source": [
    "import numpy as np\n",
    "import scipy.stats as st\n",
    "# define sample data\n",
    "gfg_data = [7, 9, 6, 8, 10, 7, 8, 9, 7, 8]\n",
    "\n",
    "# create 99% confidence interval\n",
    "st.t.interval(alpha=0.95,\n",
    "\t\t\tdf=len(gfg_data)-1,\n",
    "\t\t\tloc=np.mean(gfg_data),\n",
    "\t\t\tscale=st.sem(gfg_data))\n"
   ]
  },
  {
   "cell_type": "markdown",
   "metadata": {},
   "source": [
    "14. Scenario: A company wants to analyze the effect of temperature on product performance. The data collected is as follows:\n",
    "\n",
    "Temperature (in degrees Celsius): [20, 22, 23, 19, 21]\n",
    "\n",
    "Performance (on a scale of 1 to 10): [8, 7, 9, 6, 8]\n",
    "\n",
    "Perform a simple linear regression to predict performance based on temperature."
   ]
  },
  {
   "cell_type": "code",
   "execution_count": 2,
   "metadata": {},
   "outputs": [
    {
     "name": "stdout",
     "output_type": "stream",
     "text": [
      "(4, 1)\n",
      "nan\n"
     ]
    },
    {
     "name": "stderr",
     "output_type": "stream",
     "text": [
      "c:\\ProgramData\\anaconda3\\lib\\site-packages\\sklearn\\metrics\\_regression.py:918: UndefinedMetricWarning: R^2 score is not well-defined with less than two samples.\n",
      "  warnings.warn(msg, UndefinedMetricWarning)\n"
     ]
    }
   ],
   "source": [
    "import numpy as np\n",
    "from sklearn.model_selection import train_test_split\n",
    "X = np.array([20, 22, 23, 19, 21])\n",
    "y = np.array([8, 7, 9, 6, 8])\n",
    "X_train, X_test, y_train, y_test = train_test_split( X, y, train_size = 0.8, test_size = 0.2)\n",
    "X_train = X_train.reshape(-1, 1)\n",
    "print(X_train.shape)\n",
    "\n",
    "\n",
    "from sklearn.linear_model import LinearRegression\n",
    "lr = LinearRegression()\n",
    "lr.fit(X_train, y_train)\n",
    "print(lr.score(X_test.reshape(-1,1), y_test))\n"
   ]
  },
  {
   "cell_type": "markdown",
   "metadata": {},
   "source": [
    "15. Scenario: A study is conducted to compare the preferences of two groups of participants. The preferences are measured on a Likert scale from 1 to 5. The data collected is as follows:\n",
    "\n",
    "Group A: [4, 3, 5, 2, 4]\n",
    "\n",
    "Group B: [3, 2, 4, 3, 3]\n",
    "\n",
    "Perform a Mann-Whitney U test to determine if there is a significant difference in the median preferences between the two groups."
   ]
  },
  {
   "cell_type": "code",
   "execution_count": 5,
   "metadata": {},
   "outputs": [
    {
     "name": "stdout",
     "output_type": "stream",
     "text": [
      "17.0 0.380836480306712\n"
     ]
    }
   ],
   "source": [
    "import scipy.stats as stats\n",
    "GroupA = [4, 3, 5, 2, 4]\n",
    "\n",
    "GroupB =  [3, 2, 4, 3, 3]\n",
    "\n",
    "#perform the Mann-Whitney U test\n",
    "statistic, pvalue = stats.mannwhitneyu(GroupA, GroupB, alternative='two-sided')\n",
    "print(statistic, pvalue)\n"
   ]
  },
  {
   "cell_type": "markdown",
   "metadata": {},
   "source": [
    "16. Scenario: A company wants to analyze the distribution of customer ages. The data collected is as follows:\n",
    "\n",
    "[25, 30, 35, 40, 45, 50, 55, 60, 65, 70]\n",
    "\n",
    "Calculate the interquartile range (IQR) of the ages."
   ]
  },
  {
   "cell_type": "code",
   "execution_count": 1,
   "metadata": {},
   "outputs": [
    {
     "name": "stdout",
     "output_type": "stream",
     "text": [
      "30.5\n"
     ]
    }
   ],
   "source": [
    "# Import the numpy library as np\n",
    "import numpy as np\n",
    "\n",
    "data = [32, 36, 46, 47, 56, 69, 75, 79, 79, 88, 89, 91, 92, 93, 96, 97,\n",
    "\t\t101, 105, 112, 116]\n",
    "\n",
    "q3, q1 = np.percentile(data, [75 ,25])\n",
    "iqr = q3 - q1\n",
    "print(iqr)\n"
   ]
  },
  {
   "cell_type": "markdown",
   "metadata": {},
   "source": [
    "17. Scenario: A study is conducted to compare the performance of three different machine learning algorithms. The accuracy scores for each algorithm are as follows:\n",
    "\n",
    "Algorithm A: [0.85, 0.80, 0.82, 0.87, 0.83]\n",
    "\n",
    "Algorithm B: [0.78, 0.82, 0.84, 0.80, 0.79]\n",
    "\n",
    "Algorithm C: [0.90, 0.88, 0.89, 0.86, 0.87]\n",
    "\n",
    "Perform a Kruskal-Wallis test to determine if there is a significant difference in the median accuracy scores between the algorithms."
   ]
  },
  {
   "cell_type": "code",
   "execution_count": 3,
   "metadata": {},
   "outputs": [
    {
     "name": "stdout",
     "output_type": "stream",
     "text": [
      "9.696947935368053 0.007840333026249539\n"
     ]
    }
   ],
   "source": [
    "# Import libraries\n",
    "from scipy import stats\n",
    "\n",
    "# Defining data groups\n",
    "data_group1 = [0.85, 0.80, 0.82, 0.87, 0.83]\n",
    "data_group2 = [0.78, 0.82, 0.84, 0.80, 0.79]\n",
    "data_group3 = [0.90, 0.88, 0.89, 0.86, 0.87]\n",
    "\n",
    "# Conduct the Kruskal-Wallis Test\n",
    "result, pvalue = stats.kruskal(data_group1, data_group2, data_group3)\n",
    "\n",
    "# Print the result\n",
    "print(result, pvalue)\n"
   ]
  },
  {
   "cell_type": "markdown",
   "metadata": {},
   "source": [
    "18. Scenario: A company wants to analyze the effect of price on sales. The data collected is as follows:\n",
    "\n",
    "Price (in dollars): [10, 15, 12, 8, 14]\n",
    "\n",
    "Sales: [100, 80, 90, 110, 95]\n",
    "\n",
    "Perform a simple linear regression to predict\n",
    "\n",
    "sales based on price."
   ]
  },
  {
   "cell_type": "code",
   "execution_count": 4,
   "metadata": {},
   "outputs": [
    {
     "name": "stdout",
     "output_type": "stream",
     "text": [
      "(4, 1)\n",
      "nan\n"
     ]
    },
    {
     "name": "stderr",
     "output_type": "stream",
     "text": [
      "c:\\ProgramData\\anaconda3\\lib\\site-packages\\sklearn\\metrics\\_regression.py:918: UndefinedMetricWarning: R^2 score is not well-defined with less than two samples.\n",
      "  warnings.warn(msg, UndefinedMetricWarning)\n"
     ]
    }
   ],
   "source": [
    "import numpy as np\n",
    "from sklearn.model_selection import train_test_split\n",
    "X = np.array([10, 15, 12, 8, 14])\n",
    "y = np.array([100, 80, 90, 110, 95])\n",
    "X_train, X_test, y_train, y_test = train_test_split( X, y, train_size = 0.8, test_size = 0.2)\n",
    "X_train = X_train.reshape(-1, 1)\n",
    "print(X_train.shape)\n",
    "\n",
    "\n",
    "from sklearn.linear_model import LinearRegression\n",
    "lr = LinearRegression()\n",
    "lr.fit(X_train, y_train)\n",
    "# print(lr.score(X_test.reshape(-1,1), y_test))"
   ]
  },
  {
   "cell_type": "markdown",
   "metadata": {},
   "source": [
    "20. Scenario: A company wants to analyze the relationship between advertising expenditure and sales. The data collected is as follows:\n",
    "\n",
    "Advertising Expenditure (in thousands): [10, 15, 12, 8, 14]\n",
    "\n",
    "Sales (in thousands): [25, 30, 28, 20, 26]\n",
    "\n",
    "Perform a multiple regression analysis to predict sales based on advertising expenditure."
   ]
  },
  {
   "cell_type": "code",
   "execution_count": 5,
   "metadata": {},
   "outputs": [],
   "source": [
    "import pandas as pd\n",
    "import numpy as np\n",
    "import seaborn as sns\n",
    "from scipy.stats import skew\n",
    "%matplotlib inline"
   ]
  },
  {
   "cell_type": "code",
   "execution_count": 6,
   "metadata": {},
   "outputs": [],
   "source": [
    "import matplotlib.pyplot as plt\n",
    "plt.style.use(\"ggplot\")\n",
    "plt.rcParams['figure.figsize'] = (12, 8)"
   ]
  },
  {
   "cell_type": "code",
   "execution_count": 7,
   "metadata": {},
   "outputs": [],
   "source": [
    "data = {\n",
    "    \"Expenditure\" : [10, 15, 12, 8, 14],\n",
    "    \"Sales\" : [25, 30, 28, 20, 26]\n",
    "}"
   ]
  },
  {
   "cell_type": "code",
   "execution_count": 8,
   "metadata": {},
   "outputs": [
    {
     "data": {
      "text/html": [
       "<div>\n",
       "<style scoped>\n",
       "    .dataframe tbody tr th:only-of-type {\n",
       "        vertical-align: middle;\n",
       "    }\n",
       "\n",
       "    .dataframe tbody tr th {\n",
       "        vertical-align: top;\n",
       "    }\n",
       "\n",
       "    .dataframe thead th {\n",
       "        text-align: right;\n",
       "    }\n",
       "</style>\n",
       "<table border=\"1\" class=\"dataframe\">\n",
       "  <thead>\n",
       "    <tr style=\"text-align: right;\">\n",
       "      <th></th>\n",
       "      <th>Expenditure</th>\n",
       "      <th>Sales</th>\n",
       "    </tr>\n",
       "  </thead>\n",
       "  <tbody>\n",
       "    <tr>\n",
       "      <th>0</th>\n",
       "      <td>10</td>\n",
       "      <td>25</td>\n",
       "    </tr>\n",
       "    <tr>\n",
       "      <th>1</th>\n",
       "      <td>15</td>\n",
       "      <td>30</td>\n",
       "    </tr>\n",
       "    <tr>\n",
       "      <th>2</th>\n",
       "      <td>12</td>\n",
       "      <td>28</td>\n",
       "    </tr>\n",
       "    <tr>\n",
       "      <th>3</th>\n",
       "      <td>8</td>\n",
       "      <td>20</td>\n",
       "    </tr>\n",
       "    <tr>\n",
       "      <th>4</th>\n",
       "      <td>14</td>\n",
       "      <td>26</td>\n",
       "    </tr>\n",
       "  </tbody>\n",
       "</table>\n",
       "</div>"
      ],
      "text/plain": [
       "   Expenditure  Sales\n",
       "0           10     25\n",
       "1           15     30\n",
       "2           12     28\n",
       "3            8     20\n",
       "4           14     26"
      ]
     },
     "execution_count": 8,
     "metadata": {},
     "output_type": "execute_result"
    }
   ],
   "source": [
    "advert = pd.DataFrame(data)\n",
    "advert.head()"
   ]
  },
  {
   "cell_type": "code",
   "execution_count": 12,
   "metadata": {},
   "outputs": [
    {
     "name": "stdout",
     "output_type": "stream",
     "text": [
      "RMSE : 10.202821988578076\n"
     ]
    }
   ],
   "source": [
    "from sklearn.linear_model import LinearRegression\n",
    "from sklearn.metrics import mean_squared_error\n",
    "from sklearn.metrics import r2_score\n",
    "\n",
    "X = np.array([10, 15, 12, 8, 14])\n",
    "y = np.array([100, 80, 90, 110, 95])\n",
    "\n",
    "X_train, X_test, y_train, y_test = train_test_split(X, y, random_state = 1)\n",
    "X_train = X_train.reshape(-1, 1)\n",
    "X_test = X_test.reshape(-1, 1)\n",
    "\n",
    "lm4 = LinearRegression()\n",
    "lm4.fit(X_train, y_train)\n",
    "lm4_preds = lm4.predict(X_test)\n",
    "\n",
    "\n",
    "print(\"RMSE :\", np.sqrt(mean_squared_error(y_test, lm4_preds)))\n",
    "# print(\"R^2: \", r2_score(y_test, lm4_preds))\n"
   ]
  }
 ],
 "metadata": {
  "kernelspec": {
   "display_name": "base",
   "language": "python",
   "name": "python3"
  },
  "language_info": {
   "codemirror_mode": {
    "name": "ipython",
    "version": 3
   },
   "file_extension": ".py",
   "mimetype": "text/x-python",
   "name": "python",
   "nbconvert_exporter": "python",
   "pygments_lexer": "ipython3",
   "version": "3.10.9"
  },
  "orig_nbformat": 4
 },
 "nbformat": 4,
 "nbformat_minor": 2
}
