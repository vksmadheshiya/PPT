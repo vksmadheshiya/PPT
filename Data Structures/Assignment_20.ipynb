{
  "nbformat": 4,
  "nbformat_minor": 0,
  "metadata": {
    "colab": {
      "provenance": [],
      "authorship_tag": "ABX9TyMZgRHml6T7XELgFR4HLyTI",
      "include_colab_link": true
    },
    "kernelspec": {
      "name": "python3",
      "display_name": "Python 3"
    },
    "language_info": {
      "name": "python"
    }
  },
  "cells": [
    {
      "cell_type": "markdown",
      "metadata": {
        "id": "view-in-github",
        "colab_type": "text"
      },
      "source": [
        "<a href=\"https://colab.research.google.com/github/jayant3297/Pre_Placement_Training/blob/main/Assignment20.ipynb\" target=\"_parent\"><img src=\"https://colab.research.google.com/assets/colab-badge.svg\" alt=\"Open In Colab\"/></a>"
      ]
    },
    {
      "cell_type": "markdown",
      "source": [
        "<aside>\n",
        "💡 Question-1\n",
        "\n",
        "Given a binary tree, your task is to find subtree with maximum sum in tree.\n",
        "\n",
        "Examples:\n",
        "\n",
        "Input1 :\n",
        "\n",
        "       1\n",
        "\n",
        "     /   \\\n",
        "\n",
        "   2      3\n",
        "\n",
        "  / \\    / \\\n",
        "\n",
        "4   5  6   7\n",
        "\n",
        "Output1 : 28\n",
        "\n",
        "As all the tree elements are positive, the largest subtree sum is equal to sum of all tree elements.\n",
        "\n",
        "Input2 :\n",
        "\n",
        "       1\n",
        "\n",
        "     /    \\\n",
        "\n",
        "  -2      3\n",
        "\n",
        "  / \\    /  \\\n",
        "\n",
        "4   5  -6   2\n",
        "\n",
        "Output2 : 7\n",
        "\n",
        "Subtree with largest sum is :\n",
        "\n",
        " -2\n",
        "\n",
        " / \\\n",
        "\n",
        "4   5\n",
        "\n",
        "Also, entire tree sum is also 7.\n",
        "\n",
        "</aside>"
      ],
      "metadata": {
        "id": "JJnY-emjG-u4"
      }
    },
    {
      "cell_type": "code",
      "execution_count": 1,
      "metadata": {
        "id": "o5WKwB_KGrj3"
      },
      "outputs": [],
      "source": [
        "class Node:\n",
        "    def __init__(self, val):\n",
        "        self.val = val\n",
        "        self.left = None\n",
        "        self.right = None\n",
        "\n",
        "def findMaxSubtreeSum(root):\n",
        "    if root is None:\n",
        "        return 0\n",
        "\n",
        "    leftSum = findMaxSubtreeSum(root.left)\n",
        "    rightSum = findMaxSubtreeSum(root.right)\n",
        "\n",
        "    currentSum = root.val + leftSum + rightSum\n",
        "\n",
        "    global maxSum\n",
        "    maxSum = max(maxSum, currentSum)\n",
        "\n",
        "    return currentSum"
      ]
    },
    {
      "cell_type": "code",
      "source": [
        "root1 = Node(1)\n",
        "root1.left = Node(2)\n",
        "root1.right = Node(3)\n",
        "root1.left.left = Node(4)\n",
        "root1.left.right = Node(5)\n",
        "root1.right.left = Node(6)\n",
        "root1.right.right = Node(7)\n",
        "\n",
        "maxSum = float('-inf')  # initialize maxSum\n",
        "findMaxSubtreeSum(root1)\n",
        "print(\"Output 1:\", maxSum)"
      ],
      "metadata": {
        "colab": {
          "base_uri": "https://localhost:8080/"
        },
        "id": "p16aMqDlHGy7",
        "outputId": "524ed00a-f568-4ec6-8f58-eca7423dd311"
      },
      "execution_count": 2,
      "outputs": [
        {
          "output_type": "stream",
          "name": "stdout",
          "text": [
            "Output 1: 28\n"
          ]
        }
      ]
    },
    {
      "cell_type": "markdown",
      "source": [
        "<aside>\n",
        "💡 Question-2\n",
        "\n",
        "Construct the BST (Binary Search Tree) from its given level order traversal.\n",
        "\n",
        "Example:\n",
        "\n",
        "Input: arr[] = {7, 4, 12, 3, 6, 8, 1, 5, 10}\n",
        "\n",
        "Output: BST:\n",
        "\n",
        "            7\n",
        "\n",
        "         /    \\\n",
        "\n",
        "       4     12\n",
        "\n",
        "     /  \\     /\n",
        "\n",
        "    3   6  8\n",
        "\n",
        "   /    /     \\\n",
        "\n",
        " 1    5      10\n",
        "\n",
        "</aside>"
      ],
      "metadata": {
        "id": "O87YUaEqHQk6"
      }
    },
    {
      "cell_type": "code",
      "source": [
        "class Node:\n",
        "    def __init__(self, val):\n",
        "        self.val = val\n",
        "        self.left = None\n",
        "        self.right = None\n",
        "\n",
        "def constructBST(levelOrder):\n",
        "    if len(levelOrder) == 0:\n",
        "        return None\n",
        "\n",
        "    root = Node(levelOrder[0])\n",
        "    queue = [root]\n",
        "    i = 1\n",
        "\n",
        "    while i < len(levelOrder):\n",
        "        currentNode = queue.pop(0)\n",
        "\n",
        "        leftValue = levelOrder[i]\n",
        "        if leftValue < currentNode.val:\n",
        "            currentNode.left = Node(leftValue)\n",
        "            queue.append(currentNode.left)\n",
        "            i += 1\n",
        "\n",
        "        if i >= len(levelOrder):\n",
        "            break\n",
        "\n",
        "        rightValue = levelOrder[i]\n",
        "        if rightValue > currentNode.val:\n",
        "            currentNode.right = Node(rightValue)\n",
        "            queue.append(currentNode.right)\n",
        "            i += 1\n",
        "\n",
        "    return root"
      ],
      "metadata": {
        "id": "Ui5boOluHMWz"
      },
      "execution_count": 3,
      "outputs": []
    },
    {
      "cell_type": "code",
      "source": [
        "levelOrder = [7, 4, 12, 3, 6, 8, 1, 5, 10]\n",
        "root = constructBST(levelOrder)"
      ],
      "metadata": {
        "id": "0cAGQqWKsELL"
      },
      "execution_count": 4,
      "outputs": []
    },
    {
      "cell_type": "markdown",
      "source": [
        "<aside>\n",
        "💡 Question-3\n",
        "\n",
        "Given an array of size n. The problem is to check whether the given array can represent the level order traversal of a Binary Search Tree or not.\n",
        "\n",
        "Examples:\n",
        "\n",
        "Input1 : arr[] = {7, 4, 12, 3, 6, 8, 1, 5, 10}\n",
        "\n",
        "Output1 : Yes\n",
        "\n",
        "For the given arr[], the Binary Search Tree is:\n",
        "\n",
        "            7\n",
        "\n",
        "         /    \\\n",
        "\n",
        "       4     12\n",
        "\n",
        "     /  \\     /\n",
        "\n",
        "    3   6  8\n",
        "\n",
        "   /    /     \\\n",
        "\n",
        " 1    5      10\n",
        "\n",
        "Input2 : arr[] = {11, 6, 13, 5, 12, 10}\n",
        "\n",
        "Output2 : No\n",
        "\n",
        "The given arr[] does not represent the level order traversal of a BST.\n",
        "\n",
        "</aside>"
      ],
      "metadata": {
        "id": "EKymmNrPsTqH"
      }
    },
    {
      "cell_type": "code",
      "source": [
        "def representsBSTLevelOrder(arr):\n",
        "    stack = []\n",
        "    root = float('-inf')\n",
        "    i = 0\n",
        "\n",
        "    for i in range(1, len(arr)):\n",
        "        if arr[i] < root:\n",
        "            return False\n",
        "\n",
        "        while len(stack) > 0 and arr[i] > stack[-1]:\n",
        "            root = stack.pop()\n",
        "\n",
        "        stack.append(arr[i])\n",
        "\n",
        "    return True\n"
      ],
      "metadata": {
        "id": "5qXSEXD3sKJC"
      },
      "execution_count": 10,
      "outputs": []
    },
    {
      "cell_type": "code",
      "source": [
        "arr2 = [11, 6, 13, 5, 12, 10]\n",
        "print( representsBSTLevelOrder(arr2))"
      ],
      "metadata": {
        "colab": {
          "base_uri": "https://localhost:8080/"
        },
        "id": "agK-1xVtshpg",
        "outputId": "880a968f-be07-4d8b-cc80-7534d4cdb74a"
      },
      "execution_count": 13,
      "outputs": [
        {
          "output_type": "stream",
          "name": "stdout",
          "text": [
            "False\n"
          ]
        }
      ]
    },
    {
      "cell_type": "code",
      "source": [],
      "metadata": {
        "id": "ZmzNnMggskvd"
      },
      "execution_count": null,
      "outputs": []
    }
  ]
}