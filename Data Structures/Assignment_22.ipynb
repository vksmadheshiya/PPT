{
  "nbformat": 4,
  "nbformat_minor": 0,
  "metadata": {
    "colab": {
      "provenance": [],
      "authorship_tag": "ABX9TyOWa8w/0IgJXxaHnDFHcu3Y",
      "include_colab_link": true
    },
    "kernelspec": {
      "name": "python3",
      "display_name": "Python 3"
    },
    "language_info": {
      "name": "python"
    }
  },
  "cells": [
    {
      "cell_type": "markdown",
      "metadata": {
        "id": "view-in-github",
        "colab_type": "text"
      },
      "source": [
        "<a href=\"https://colab.research.google.com/github/jayant3297/Pre_Placement_Training/blob/main/Assignment22.ipynb\" target=\"_parent\"><img src=\"https://colab.research.google.com/assets/colab-badge.svg\" alt=\"Open In Colab\"/></a>"
      ]
    },
    {
      "cell_type": "markdown",
      "source": [
        "<aside>\n",
        "💡 Question-1:\n",
        "\n",
        "Given a Binary Tree (Bt), convert it to a Doubly Linked List(DLL). The left and right pointers in nodes are to be used as previous and next pointers respectively in converted DLL. The order of nodes in DLL must be the same as in Inorder for the given Binary Tree. The first node of Inorder traversal (leftmost node in BT) must be the head node of the DLL.\n",
        "\n"
      ],
      "metadata": {
        "id": "aAEU66vASYFq"
      }
    },
    {
      "cell_type": "code",
      "execution_count": 3,
      "metadata": {
        "id": "foL8YIBzSDqL"
      },
      "outputs": [],
      "source": [
        "class Node:\n",
        "    def __init__(self, val):\n",
        "        self.val = val\n",
        "        self.left = None\n",
        "        self.right = None\n",
        "        self.prev = None\n",
        "        self.next = None\n",
        "\n",
        "def convertToDLL(root):\n",
        "    if root is None:\n",
        "        return None\n",
        "\n",
        "    # Helper function to perform inorder traversal and adjust the pointers\n",
        "    def inorder(node, prev):\n",
        "        nonlocal head\n",
        "\n",
        "        if node is None:\n",
        "            return prev\n",
        "\n",
        "        # Recurse on the left subtree\n",
        "        prev = inorder(node.left, prev)\n",
        "\n",
        "        # Adjust the pointers\n",
        "        if prev is None:\n",
        "            head = node\n",
        "        else:\n",
        "            prev.next = node\n",
        "            node.prev = prev\n",
        "\n",
        "        # Update the previous node\n",
        "        prev = node\n",
        "\n",
        "        # Recurse on the right subtree\n",
        "        prev = inorder(node.right, prev)\n",
        "\n",
        "        return prev\n",
        "\n",
        "    # Initialize the head as None\n",
        "    head = None\n",
        "\n",
        "    # Start the inorder traversal\n",
        "    inorder(root, None)\n",
        "\n",
        "    return head\n",
        "\n",
        "def printDLL(head):\n",
        "    current = head\n",
        "    while current:\n",
        "        print(current.val, end=\" \")\n",
        "        current = current.next\n",
        "    print()\n"
      ]
    },
    {
      "cell_type": "code",
      "source": [
        "root = Node(10)\n",
        "root.left = Node(5)\n",
        "root.right = Node(20)\n",
        "root.right.left = Node(15)\n",
        "root.right.right = Node(30)\n",
        "\n",
        "print(\"Input Binary Tree:\")\n",
        "print(\"        10\")\n",
        "print(\"       /  \\\\\")\n",
        "print(\"      5    20\")\n",
        "print(\"          /  \\\\\")\n",
        "print(\"         15   30\")\n",
        "\n",
        "head = convertToDLL(root)\n",
        "\n",
        "print(\"\\nOutput Doubly Linked List (Inorder traversal):\")\n",
        "printDLL(head)"
      ],
      "metadata": {
        "colab": {
          "base_uri": "https://localhost:8080/"
        },
        "id": "70DTxyGVS6x0",
        "outputId": "087d32cc-3f01-42f8-897d-72b3428b8f6c"
      },
      "execution_count": 4,
      "outputs": [
        {
          "output_type": "stream",
          "name": "stdout",
          "text": [
            "Input Binary Tree:\n",
            "        10\n",
            "       /  \\\n",
            "      5    20\n",
            "          /  \\\n",
            "         15   30\n",
            "\n",
            "Output Doubly Linked List (Inorder traversal):\n",
            "5 10 15 20 30 \n"
          ]
        }
      ]
    },
    {
      "cell_type": "markdown",
      "source": [
        "<aside>\n",
        "💡 Question-2\n",
        "\n",
        "A Given a binary tree, the task is to flip the binary tree towards the right direction that is clockwise. See the below examples to see the transformation.\n",
        "\n",
        "In the flip operation, the leftmost node becomes the root of the flipped tree and its parent becomes its right child and the right sibling becomes its left child and the same should be done for all left most nodes recursively.\n"
      ],
      "metadata": {
        "id": "2NVaqx2UTmCd"
      }
    },
    {
      "cell_type": "code",
      "source": [
        "class Node:\n",
        "    def __init__(self, val):\n",
        "        self.val = val\n",
        "        self.left = None\n",
        "        self.right = None\n",
        "\n",
        "def flipBinaryTree(root):\n",
        "    if root is None or (root.left is None and root.right is None):\n",
        "        return root\n",
        "\n",
        "    flippedLeft = flipBinaryTree(root.left)\n",
        "    flippedRight = flipBinaryTree(root.right)\n",
        "\n",
        "    root.left = flippedRight\n",
        "    root.right = flippedLeft\n",
        "\n",
        "    return root\n",
        "\n",
        "def printBinaryTree(root):\n",
        "    if root is None:\n",
        "        return\n",
        "\n",
        "    print(root.val, end=\" \")\n",
        "    printBinaryTree(root.left)\n",
        "    printBinaryTree(root.right)\n"
      ],
      "metadata": {
        "id": "viufKqyxTDYo"
      },
      "execution_count": 7,
      "outputs": []
    },
    {
      "cell_type": "code",
      "source": [
        "root = Node(1)\n",
        "root.left = Node(2)\n",
        "root.right = Node(3)\n",
        "root.left.left = Node(4)\n",
        "root.left.right = Node(5)\n",
        "\n",
        "print(\"Input Binary Tree:\")\n",
        "printBinaryTree(root)\n",
        "\n",
        "flippedRoot = flipBinaryTree(root)\n",
        "\n",
        "print(\"\\nFlipped Binary Tree:\")\n",
        "printBinaryTree(flippedRoot)"
      ],
      "metadata": {
        "colab": {
          "base_uri": "https://localhost:8080/"
        },
        "id": "haQDjTjhULIy",
        "outputId": "04eccab8-314c-48e7-80dd-5b02361ff54a"
      },
      "execution_count": 8,
      "outputs": [
        {
          "output_type": "stream",
          "name": "stdout",
          "text": [
            "Input Binary Tree:\n",
            "1 2 4 5 3 \n",
            "Flipped Binary Tree:\n",
            "1 3 2 5 4 "
          ]
        }
      ]
    },
    {
      "cell_type": "markdown",
      "source": [
        "<aside>\n",
        "💡 Question-3:\n",
        "\n",
        "Given a binary tree, print all its root-to-leaf paths without using recursion. For example, consider the following Binary Tree.\n",
        "\n",
        "Input:\n",
        "\n",
        "        6\n",
        "     /    \\\n",
        "    3      5\n",
        "  /   \\     \\\n",
        " 2     5     4\n",
        "     /   \\\n",
        "    7     4\n",
        "\n",
        "Output:\n",
        "\n",
        "There are 4 leaves, hence 4 root to leaf paths -\n",
        "  6->3->2\n",
        "  6->3->5->7\n",
        "  6->3->5->4\n",
        "  6->5>4\n",
        "\n"
      ],
      "metadata": {
        "id": "9lFfbXF-U3rH"
      }
    },
    {
      "cell_type": "code",
      "source": [
        "class Node:\n",
        "    def __init__(self, val):\n",
        "        self.val = val\n",
        "        self.left = None\n",
        "        self.right = None\n",
        "\n",
        "def printRootToLeafPaths(root):\n",
        "    if root is None:\n",
        "        return\n",
        "\n",
        "    stack = [(root, str(root.val))]\n",
        "\n",
        "    while stack:\n",
        "        node, path = stack.pop()\n",
        "\n",
        "        if node.left is None and node.right is None:\n",
        "            print(path)\n",
        "\n",
        "        if node.right:\n",
        "            stack.append((node.right, path + \"->\" + str(node.right.val)))\n",
        "\n",
        "        if node.left:\n",
        "            stack.append((node.left, path + \"->\" + str(node.left.val)))"
      ],
      "metadata": {
        "id": "-ySv705KUPah"
      },
      "execution_count": 9,
      "outputs": []
    },
    {
      "cell_type": "code",
      "source": [
        "root = Node(6)\n",
        "root.left = Node(3)\n",
        "root.right = Node(5)\n",
        "root.left.left = Node(2)\n",
        "root.left.right = Node(5)\n",
        "root.right.right = Node(4)\n",
        "root.left.right.left = Node(7)\n",
        "root.left.right.right = Node(4)\n",
        "\n",
        "print(\"Input Binary Tree:\")\n",
        "print(\"        6\")\n",
        "print(\"     /     \\\\\")\n",
        "print(\"    3       5\")\n",
        "print(\"  /   \\\\       \\\\\")\n",
        "print(\" 2     5       4\")\n",
        "print(\"       /   \\\\\")\n",
        "print(\"      7     4\")\n",
        "\n",
        "print(\"\\nRoot-to-Leaf Paths:\")\n",
        "printRootToLeafPaths(root)"
      ],
      "metadata": {
        "colab": {
          "base_uri": "https://localhost:8080/"
        },
        "id": "dqNS0yi1VHSH",
        "outputId": "6d685e8a-ae24-4e6b-c35a-0aa3b4387d10"
      },
      "execution_count": 10,
      "outputs": [
        {
          "output_type": "stream",
          "name": "stdout",
          "text": [
            "Input Binary Tree:\n",
            "        6\n",
            "     /     \\\n",
            "    3       5\n",
            "  /   \\       \\\n",
            " 2     5       4\n",
            "       /   \\\n",
            "      7     4\n",
            "\n",
            "Root-to-Leaf Paths:\n",
            "6->3->2\n",
            "6->3->5->7\n",
            "6->3->5->4\n",
            "6->5->4\n"
          ]
        }
      ]
    },
    {
      "cell_type": "markdown",
      "source": [
        "<aside>\n",
        "💡 Question-4:\n",
        "\n",
        "Given Preorder, Inorder and Postorder traversals of some tree. Write a program to check if they all are of the same tree.\n",
        "\n",
        "**Examples:**\n",
        "\n",
        "Input :\n",
        "\n",
        "        Inorder -> 4 2 5 1 3\n",
        "        Preorder -> 1 2 4 5 3\n",
        "        Postorder -> 4 5 2 3 1\n",
        "Output :\n",
        "\n",
        "Yes\n",
        "Explanation :\n",
        "\n",
        "All of the above three traversals are of\n",
        "the same tree\n",
        "\n",
        "                           1\n",
        "                         /   \\\n",
        "                        2     3\n",
        "                      /   \\\n",
        "                     4     5\n",
        "\n",
        "Input :\n",
        "\n",
        "        Inorder -> 4 2 5 1 3\n",
        "        Preorder -> 1 5 4 2 3\n",
        "        Postorder -> 4 1 2 3 5\n",
        "Output :\n",
        "\n",
        "No\n"
      ],
      "metadata": {
        "id": "vi66Pp0qVn07"
      }
    },
    {
      "cell_type": "code",
      "source": [
        "class Node:\n",
        "    def __init__(self, val):\n",
        "        self.val = val\n",
        "        self.left = None\n",
        "        self.right = None\n",
        "\n",
        "def isSameTree(preorder, inorder, postorder):\n",
        "    if len(preorder) != len(inorder) or len(inorder) != len(postorder):\n",
        "        return False\n",
        "\n",
        "    if len(preorder) == 0:\n",
        "        return True\n",
        "\n",
        "    root_val = preorder[0]\n",
        "    root = Node(root_val)\n",
        "    idx = inorder.index(root_val)\n",
        "\n",
        "    left_inorder = inorder[:idx]\n",
        "    right_inorder = inorder[idx+1:]\n",
        "\n",
        "    left_preorder = preorder[1:1+idx]\n",
        "    right_preorder = preorder[1+idx:]\n",
        "\n",
        "    left_postorder = postorder[:idx]\n",
        "    right_postorder = postorder[idx:-1]\n",
        "\n",
        "    left = isSameTree(left_preorder, left_inorder, left_postorder)\n",
        "    right = isSameTree(right_preorder, right_inorder, right_postorder)\n",
        "\n",
        "    return left and right"
      ],
      "metadata": {
        "id": "ROFP2WSlVUdj"
      },
      "execution_count": 11,
      "outputs": []
    },
    {
      "cell_type": "code",
      "source": [
        "preorder = [1, 2, 4, 5, 3]\n",
        "inorder = [4, 2, 5, 1, 3]\n",
        "postorder = [4, 5, 2, 3, 1]\n",
        "print(\"Input:\")\n",
        "print(\"Inorder ->\", inorder)\n",
        "print(\"Preorder ->\", preorder)\n",
        "print(\"Postorder ->\", postorder)\n",
        "\n",
        "if isSameTree(preorder, inorder, postorder):\n",
        "    print(\"\\nOutput:\")\n",
        "    print(\"Yes\")\n",
        "else:\n",
        "    print(\"\\nOutput:\")\n",
        "    print(\"No\")"
      ],
      "metadata": {
        "colab": {
          "base_uri": "https://localhost:8080/"
        },
        "id": "9zsojc1dV0y_",
        "outputId": "32416aed-0443-44af-8427-a33405f71536"
      },
      "execution_count": 12,
      "outputs": [
        {
          "output_type": "stream",
          "name": "stdout",
          "text": [
            "Input:\n",
            "Inorder -> [4, 2, 5, 1, 3]\n",
            "Preorder -> [1, 2, 4, 5, 3]\n",
            "Postorder -> [4, 5, 2, 3, 1]\n",
            "\n",
            "Output:\n",
            "Yes\n"
          ]
        }
      ]
    },
    {
      "cell_type": "code",
      "source": [],
      "metadata": {
        "id": "fLutzQcOV4SP"
      },
      "execution_count": null,
      "outputs": []
    }
  ]
}