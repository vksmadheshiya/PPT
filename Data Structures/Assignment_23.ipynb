{
  "nbformat": 4,
  "nbformat_minor": 0,
  "metadata": {
    "colab": {
      "provenance": [],
      "authorship_tag": "ABX9TyOp7sttIVfcu2o93bRAT64x",
      "include_colab_link": true
    },
    "kernelspec": {
      "name": "python3",
      "display_name": "Python 3"
    },
    "language_info": {
      "name": "python"
    }
  },
  "cells": [
    {
      "cell_type": "markdown",
      "metadata": {
        "id": "view-in-github",
        "colab_type": "text"
      },
      "source": [
        "<a href=\"https://colab.research.google.com/github/jayant3297/Pre_Placement_Training/blob/main/Assignment23.ipynb\" target=\"_parent\"><img src=\"https://colab.research.google.com/assets/colab-badge.svg\" alt=\"Open In Colab\"/></a>"
      ]
    },
    {
      "cell_type": "markdown",
      "source": [
        "<aside>\n",
        "💡 Question-1:\n",
        "\n",
        "Given preorder of a binary tree, calculate its **[depth(or height)](https://www.geeksforgeeks.org/write-a-c-program-to-find-the-maximum-depth-or-height-of-a-tree/)** [starting from depth 0]. The preorder is given as a string with two possible characters.\n",
        "\n",
        "1. ‘l’ denotes the leaf\n",
        "2. ‘n’ denotes internal node\n",
        "\n",
        "The given tree can be seen as a full binary tree where every node has 0 or two children. The two children of a node can ‘n’ or ‘l’ or mix of both.\n",
        "\n",
        "**Examples :**\n",
        "\n",
        "Input  : nlnll\n",
        "Output : 2\n",
        "\n",
        "</aside>"
      ],
      "metadata": {
        "id": "iy1CNFFDW98E"
      }
    },
    {
      "cell_type": "code",
      "execution_count": 9,
      "metadata": {
        "id": "hJQKIhLQWwW6"
      },
      "outputs": [],
      "source": [
        "def calculateDepth(preorder):\n",
        "    depth = 0\n",
        "    max_depth = 0\n",
        "\n",
        "    for ch in preorder:\n",
        "        if ch == 'n':\n",
        "            depth += 1\n",
        "        elif ch == 'l':\n",
        "            max_depth = max(max_depth, depth)\n",
        "            depth = 0\n",
        "\n",
        "    return max_depth"
      ]
    },
    {
      "cell_type": "code",
      "source": [
        "preorder = 'nlnll'\n",
        "print(\"Input: \", preorder)\n",
        "print(\"Output:\", calculateDepth(preorder))"
      ],
      "metadata": {
        "colab": {
          "base_uri": "https://localhost:8080/"
        },
        "id": "_XC3PgfqXI72",
        "outputId": "b349ce9c-b6fc-49e6-f9f1-a200eb22de9e"
      },
      "execution_count": 10,
      "outputs": [
        {
          "output_type": "stream",
          "name": "stdout",
          "text": [
            "Input:  nlnll\n",
            "Output: 1\n"
          ]
        }
      ]
    },
    {
      "cell_type": "markdown",
      "source": [
        "<aside>\n",
        "💡 Question-2:\n",
        "\n",
        "Given a Binary tree, the task is to print the **left view** of the Binary Tree. The left view of a Binary Tree is a set of leftmost nodes for every level.\n",
        "\n",
        "**Examples:**\n",
        "\n",
        "***Input:***\n",
        "\n",
        "            4\n",
        "\n",
        "          /   \\\n",
        "\n",
        "        5     2\n",
        "\n",
        "             /   \\\n",
        "\n",
        "            3     1\n",
        "\n",
        "           /  \\\n",
        "\n",
        "          6    7\n",
        "\n",
        "***Output:** 4 5 3 6*\n",
        "\n",
        "</aside>"
      ],
      "metadata": {
        "id": "QhT4eiNHYgir"
      }
    },
    {
      "cell_type": "code",
      "source": [
        "from collections import deque\n",
        "\n",
        "# Definition of a binary tree node\n",
        "class TreeNode:\n",
        "    def __init__(self, val):\n",
        "        self.val = val\n",
        "        self.left = None\n",
        "        self.right = None\n",
        "\n",
        "def leftView(root):\n",
        "    if not root:\n",
        "        return\n",
        "\n",
        "    queue = deque()\n",
        "    queue.append(root)\n",
        "\n",
        "    while queue:\n",
        "        size = len(queue)\n",
        "        is_leftmost = True\n",
        "\n",
        "        for i in range(size):\n",
        "            node = queue.popleft()\n",
        "\n",
        "            if is_leftmost:\n",
        "                print(node.val, end=' ')\n",
        "                is_leftmost = False\n",
        "\n",
        "            if node.left:\n",
        "                queue.append(node.left)\n",
        "            if node.right:\n",
        "                queue.append(node.right)\n",
        "\n",
        "    print()\n",
        "\n"
      ],
      "metadata": {
        "id": "RfiArRVWXM4B"
      },
      "execution_count": 11,
      "outputs": []
    },
    {
      "cell_type": "code",
      "source": [
        "root = TreeNode(4)\n",
        "root.left = TreeNode(5)\n",
        "root.right = TreeNode(2)\n",
        "root.right.left = TreeNode(3)\n",
        "root.right.right = TreeNode(1)\n",
        "root.right.left.left = TreeNode(6)\n",
        "root.right.left.right = TreeNode(7)\n",
        "\n",
        "\n",
        "print(\"Left view:\")\n",
        "leftView(root)"
      ],
      "metadata": {
        "colab": {
          "base_uri": "https://localhost:8080/"
        },
        "id": "UIbwDoUbYv9X",
        "outputId": "0de67cba-dbec-4585-97b3-bd148d133d3b"
      },
      "execution_count": 12,
      "outputs": [
        {
          "output_type": "stream",
          "name": "stdout",
          "text": [
            "Left view:\n",
            "4 5 3 6 \n"
          ]
        }
      ]
    },
    {
      "cell_type": "markdown",
      "source": [
        "<aside>\n",
        "💡 Question-3:\n",
        "\n",
        "Given a Binary Tree, print the Right view of it.\n",
        "\n",
        "The right view of a Binary Tree is a set of nodes visible when the tree is visited from the Right side.\n",
        "\n",
        "**Examples:**\n",
        "\n",
        "**Input:**\n",
        "\n",
        "         1\n",
        "\n",
        "      /     \\\n",
        "\n",
        "   2         3\n",
        "\n",
        "/   \\       /  \\\n",
        "\n",
        "4     5   6    7\n",
        "\n",
        "             \\\n",
        "\n",
        "               8\n",
        "\n",
        "**Output**:\n",
        "\n",
        "Right view of the tree is 1 3 7 8\n",
        "\n",
        "</aside>"
      ],
      "metadata": {
        "id": "yM4Mr9f4Y80d"
      }
    },
    {
      "cell_type": "code",
      "source": [
        "from collections import deque\n",
        "\n",
        "# Definition of a binary tree node\n",
        "class TreeNode:\n",
        "    def __init__(self, val):\n",
        "        self.val = val\n",
        "        self.left = None\n",
        "        self.right = None\n",
        "\n",
        "def rightView(root):\n",
        "    if not root:\n",
        "        return\n",
        "\n",
        "    queue = deque()\n",
        "    queue.append(root)\n",
        "\n",
        "    while queue:\n",
        "        size = len(queue)\n",
        "        rightmost = None\n",
        "\n",
        "        for i in range(size):\n",
        "            node = queue.popleft()\n",
        "\n",
        "            if i == size - 1:\n",
        "                rightmost = node.val\n",
        "\n",
        "            if node.left:\n",
        "                queue.append(node.left)\n",
        "            if node.right:\n",
        "                queue.append(node.right)\n",
        "\n",
        "        if rightmost is not None:\n",
        "            print(rightmost, end=' ')\n",
        "\n",
        "    print()"
      ],
      "metadata": {
        "id": "-vrKv8P4Y2TG"
      },
      "execution_count": 13,
      "outputs": []
    },
    {
      "cell_type": "code",
      "source": [
        "root = TreeNode(1)\n",
        "root.left = TreeNode(2)\n",
        "root.right = TreeNode(3)\n",
        "root.left.left = TreeNode(4)\n",
        "root.left.right = TreeNode(5)\n",
        "root.right.left = TreeNode(6)\n",
        "root.right.right = TreeNode(7)\n",
        "root.right.right.right = TreeNode(8)\n",
        "\n",
        "\n",
        "print(\"Right view:\")\n",
        "rightView(root)"
      ],
      "metadata": {
        "colab": {
          "base_uri": "https://localhost:8080/"
        },
        "id": "t9JpNdURZL_p",
        "outputId": "8757deb2-e11c-48e5-f044-7ccdd4b1f48b"
      },
      "execution_count": 14,
      "outputs": [
        {
          "output_type": "stream",
          "name": "stdout",
          "text": [
            "Right view:\n",
            "1 3 7 8 \n"
          ]
        }
      ]
    },
    {
      "cell_type": "markdown",
      "source": [
        "<aside>\n",
        "💡 Question-4:\n",
        "\n",
        "Given a Binary Tree, The task is to print the **bottom view** from left to right. A node **x** is there in output if x is the bottommost node at its horizontal distance. The horizontal distance of the left child of a node x is equal to a horizontal distance of x minus 1, and that of a right child is the horizontal distance of x plus 1.\n",
        "\n",
        "**Examples:**\n",
        "\n",
        "**Input:**\n",
        "\n",
        "             20\n",
        "\n",
        "           /     \\\n",
        "\n",
        "        8         22\n",
        "\n",
        "    /      \\         \\\n",
        "\n",
        "5         3        25\n",
        "\n",
        "        /    \\\n",
        "\n",
        "   10       14\n",
        "\n",
        "**Output:** 5, 10, 3, 14, 25.\n",
        "\n",
        "</aside>"
      ],
      "metadata": {
        "id": "U4oZLlgaZbJa"
      }
    },
    {
      "cell_type": "code",
      "source": [
        "from collections import deque\n",
        "\n",
        "class TreeNode:\n",
        "    def __init__(self, val):\n",
        "        self.val = val\n",
        "        self.left = None\n",
        "        self.right = None\n",
        "\n",
        "def bottomView(root):\n",
        "    if not root:\n",
        "        return\n",
        "\n",
        "\n",
        "    horizontal_distance = {}\n",
        "\n",
        "    queue = deque()\n",
        "    queue.append((root, 0))\n",
        "\n",
        "    while queue:\n",
        "        node, hd = queue.popleft()\n",
        "\n",
        "\n",
        "        horizontal_distance[hd] = node.val\n",
        "\n",
        "        if node.left:\n",
        "            queue.append((node.left, hd - 1))\n",
        "        if node.right:\n",
        "            queue.append((node.right, hd + 1))\n",
        "\n",
        "    # Sort the dictionary by horizontal distance\n",
        "    sorted_hd = sorted(horizontal_distance.keys())\n",
        "\n",
        "    # Print the values of the nodes in the bottom view\n",
        "    print(\"Bottom view:\")\n",
        "    for hd in sorted_hd:\n",
        "        print(horizontal_distance[hd], end=' ')\n",
        "\n",
        "    print()"
      ],
      "metadata": {
        "id": "1qn3nwT2ZQJS"
      },
      "execution_count": 17,
      "outputs": []
    },
    {
      "cell_type": "code",
      "source": [
        "root = TreeNode(20)\n",
        "root.left = TreeNode(8)\n",
        "root.right = TreeNode(22)\n",
        "root.left.left = TreeNode(5)\n",
        "root.left.right = TreeNode(3)\n",
        "root.right.right = TreeNode(25)\n",
        "root.left.right.left = TreeNode(10)\n",
        "root.left.right.right = TreeNode(14)\n",
        "\n",
        "# Print the bottom view of the binary tree\n",
        "bottomView(root)"
      ],
      "metadata": {
        "colab": {
          "base_uri": "https://localhost:8080/"
        },
        "id": "Ik3kmMFZZ6sM",
        "outputId": "2ac6bcd3-28eb-454f-d209-0ef7089da46c"
      },
      "execution_count": 16,
      "outputs": [
        {
          "output_type": "stream",
          "name": "stdout",
          "text": [
            "Bottom view:\n",
            "5 10 3 14 25 \n"
          ]
        }
      ]
    },
    {
      "cell_type": "code",
      "source": [],
      "metadata": {
        "id": "77SSVpX8Z_Pj"
      },
      "execution_count": null,
      "outputs": []
    }
  ]
}