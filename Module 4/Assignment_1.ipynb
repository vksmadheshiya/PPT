{
 "cells": [
  {
   "attachments": {},
   "cell_type": "markdown",
   "metadata": {},
   "source": [
    "Q1. Write a Python program to reverse a string without using any built-in string reversal functions.\n"
   ]
  },
  {
   "cell_type": "code",
   "execution_count": 1,
   "metadata": {},
   "outputs": [
    {
     "data": {
      "text/plain": [
       "'gnirts'"
      ]
     },
     "execution_count": 1,
     "metadata": {},
     "output_type": "execute_result"
    }
   ],
   "source": [
    "def reversed(string):\n",
    "    return string[::-1]\n",
    "\n",
    "reversed(\"string\")"
   ]
  },
  {
   "attachments": {},
   "cell_type": "markdown",
   "metadata": {},
   "source": [
    "Q2. Implement a function to check if a given string is a palindrome."
   ]
  },
  {
   "cell_type": "code",
   "execution_count": 2,
   "metadata": {},
   "outputs": [
    {
     "name": "stdout",
     "output_type": "stream",
     "text": [
      "False\n",
      "True\n"
     ]
    }
   ],
   "source": [
    "def check_palindrome(string):\n",
    "    lastIndex = len(string) - 1\n",
    "    for i in range(len(string)//2):\n",
    "        if string[lastIndex-i] !=string[i]:\n",
    "            return False\n",
    "    return True\n",
    "\n",
    "print(check_palindrome(\"string\"))\n",
    "print(check_palindrome(\"strts\"))"
   ]
  },
  {
   "attachments": {},
   "cell_type": "markdown",
   "metadata": {},
   "source": [
    "Q3. Write a program to find the largest element in a given list."
   ]
  },
  {
   "cell_type": "code",
   "execution_count": 3,
   "metadata": {},
   "outputs": [
    {
     "name": "stdout",
     "output_type": "stream",
     "text": [
      "Happiest\n"
     ]
    }
   ],
   "source": [
    "def find_largest(arr):\n",
    "    largest_length = float('-inf')\n",
    "    largest_element = \"\"\n",
    "    for items in arr:\n",
    "        if len(items) > largest_length:\n",
    "            largest_element = items\n",
    "    return largest_element\n",
    "\n",
    "print(find_largest([\"ram\", \"shyam\", \"pan\", \"aanand\", \"Happiest\"]))"
   ]
  },
  {
   "attachments": {},
   "cell_type": "markdown",
   "metadata": {},
   "source": [
    "4. Implement a function to count the occurrence of each element in a list.\n"
   ]
  },
  {
   "cell_type": "code",
   "execution_count": 4,
   "metadata": {},
   "outputs": [
    {
     "name": "stdout",
     "output_type": "stream",
     "text": [
      "{'ram': 3, 'shyam': 2, 'pan': 2, 'aanand': 1, 'Happiest': 1, 'RuntimeWarning': 1}\n"
     ]
    }
   ],
   "source": [
    "def count_occurence(arr):\n",
    "    count_dict = {}\n",
    "    for item in arr:\n",
    "        if item not in count_dict:\n",
    "            count_dict[item] = 0\n",
    "        \n",
    "        count_dict[item] += 1\n",
    "    return count_dict\n",
    "\n",
    "print(count_occurence([\"ram\", \"shyam\", \"pan\", \"aanand\", \"Happiest\", \"ram\", \"shyam\", \"pan\", \"RuntimeWarning\", \"ram\"]))"
   ]
  },
  {
   "attachments": {},
   "cell_type": "markdown",
   "metadata": {},
   "source": [
    "5. Write a Python program to find the second largest number in a list."
   ]
  },
  {
   "cell_type": "code",
   "execution_count": 5,
   "metadata": {},
   "outputs": [
    {
     "data": {
      "text/plain": [
       "10"
      ]
     },
     "execution_count": 5,
     "metadata": {},
     "output_type": "execute_result"
    }
   ],
   "source": [
    "def find_second_largest(num):\n",
    "    largest = float(\"-inf\")\n",
    "    second_largest = float(\"-inf\")\n",
    "    if len(num)>=2:\n",
    "        for i in range(len(num)):\n",
    "            if num[i] > largest:\n",
    "                largest = num[i]\n",
    "\n",
    "        for i in range(len(num)):\n",
    "            if num[i] > second_largest and num[i]!=largest:\n",
    "                second_largest = num[i]\n",
    "\n",
    "\n",
    "        return second_largest\n",
    "    return \"Please Enter a list having 2 or than 2 elements\"\n",
    "\n",
    "find_second_largest([12, 5, 10])\n",
    "\n",
    "    "
   ]
  },
  {
   "attachments": {},
   "cell_type": "markdown",
   "metadata": {},
   "source": [
    "6. Implement a function to remove duplicate elements from a list.\n"
   ]
  },
  {
   "cell_type": "code",
   "execution_count": 6,
   "metadata": {},
   "outputs": [
    {
     "name": "stdout",
     "output_type": "stream",
     "text": [
      "[1, 2, 3, 4, 5, 12, 45]\n",
      "[4, 12, 5, 3, 2, 1, 45]\n"
     ]
    }
   ],
   "source": [
    "def remove_dublicate(arr):\n",
    "    return list(set(arr))\n",
    "\n",
    "def remove_dublicate2(arr):\n",
    "    temp_list = []\n",
    "    for item in arr:\n",
    "        if item not in temp_list:\n",
    "            temp_list.append(item)\n",
    "    return temp_list\n",
    "\n",
    "print(remove_dublicate([4, 12, 5, 3, 2, 3, 1, 4, 45,12]))\n",
    "print(remove_dublicate2([4, 12, 5, 3, 2, 3, 1, 4, 45,12]))"
   ]
  },
  {
   "attachments": {},
   "cell_type": "markdown",
   "metadata": {},
   "source": [
    "\n",
    "7. Write a program to calculate the factorial of a given number.\n"
   ]
  },
  {
   "cell_type": "code",
   "execution_count": 7,
   "metadata": {},
   "outputs": [
    {
     "name": "stdout",
     "output_type": "stream",
     "text": [
      "5040\n",
      "5040\n"
     ]
    }
   ],
   "source": [
    "def calculate_factorial(num):\n",
    "    factorial = 1\n",
    "    if num < 0:\n",
    "        print(\"factorial of negative numbers does not exist\")\n",
    "    elif num == 0:\n",
    "        print(\"The factorial of 0 is 1\")\n",
    "    else:\n",
    "        for i in range(1,num + 1):\n",
    "            factorial = factorial*i\n",
    "    return factorial\n",
    "\n",
    "def factorial(x):\n",
    "\n",
    "    if x == 1:\n",
    "        return 1\n",
    "    else:\n",
    "        return (x * factorial(x-1))\n",
    "    \n",
    "num = 7\n",
    "print(calculate_factorial(num))\n",
    "print(factorial(num))"
   ]
  },
  {
   "attachments": {},
   "cell_type": "markdown",
   "metadata": {},
   "source": [
    "8. Implement a function to check if a given number is prime.\n"
   ]
  },
  {
   "cell_type": "code",
   "execution_count": 8,
   "metadata": {},
   "outputs": [
    {
     "name": "stdout",
     "output_type": "stream",
     "text": [
      "11 is a prime number\n"
     ]
    }
   ],
   "source": [
    "\n",
    "def check_prime(num):\n",
    "    if num > 1:\n",
    "        for i in range(2, int(num/2)+1):\n",
    "            if (num % i) == 0:\n",
    "                print(num, \"is not a prime number\")\n",
    "                break\n",
    "        else:\n",
    "            print(num, \"is a prime number\")\n",
    "    else:\n",
    "        print(num, \"is not a prime number\")\n",
    "\n",
    "check_prime(11)"
   ]
  },
  {
   "attachments": {},
   "cell_type": "markdown",
   "metadata": {},
   "source": [
    "\n",
    "9. Write a Python program to sort a list of integers in ascending order.\n"
   ]
  },
  {
   "cell_type": "code",
   "execution_count": 9,
   "metadata": {},
   "outputs": [
    {
     "name": "stdout",
     "output_type": "stream",
     "text": [
      "[34, 55, 67, 86, 87, 95]\n",
      "[34, 55, 67, 86, 87, 95]\n"
     ]
    }
   ],
   "source": [
    "def sort_array(arr):\n",
    "    arr.sort(reverse=False)\n",
    "    return arr\n",
    "\n",
    "\n",
    "def sorted_array(arr):\n",
    "    for i in range(len(arr)):\n",
    "        for j in range(i+1, len(arr)):\n",
    "            if arr[i]>arr[j]:\n",
    "                temp = arr[i]\n",
    "                arr[i] = arr[j]\n",
    "                arr[j] = temp\n",
    "    return arr\n",
    "\n",
    "print(sort_array([87, 34, 95, 55, 67, 86]))\n",
    "print(sorted_array([87, 34, 95, 55, 67, 86]))"
   ]
  },
  {
   "attachments": {},
   "cell_type": "markdown",
   "metadata": {},
   "source": [
    "10. Implement a function to find the sum of all numbers in a list.\n"
   ]
  },
  {
   "cell_type": "code",
   "execution_count": 10,
   "metadata": {},
   "outputs": [
    {
     "name": "stdout",
     "output_type": "stream",
     "text": [
      "424\n",
      "424\n"
     ]
    }
   ],
   "source": [
    "def sum_list(nums):\n",
    "    sum = 0\n",
    "    for num in nums:\n",
    "        sum += num\n",
    "    return sum\n",
    "print(sum_list([34, 55, 67, 86, 87, 95]))\n",
    "print(sum([34, 55, 67, 86, 87, 95]))"
   ]
  },
  {
   "attachments": {},
   "cell_type": "markdown",
   "metadata": {},
   "source": [
    "11. Write a program to find the common elements between two lists."
   ]
  },
  {
   "cell_type": "code",
   "execution_count": 11,
   "metadata": {},
   "outputs": [
    {
     "name": "stdout",
     "output_type": "stream",
     "text": [
      "[2, 5]\n",
      "[2, 5]\n"
     ]
    }
   ],
   "source": [
    "\n",
    "def find_common(a, b):\n",
    "    return list(set(a).intersection(b))\n",
    "\n",
    "def find_common2(a, b):\n",
    "    common = []\n",
    "    for i in a :\n",
    "        if i in b :\n",
    "            common.append(i)\n",
    "    return common\n",
    "\n",
    "a=[2,9,4,5]\n",
    "b=[3,5,7,2]\n",
    "print(find_common2(a, b))\n",
    "print(find_common(a, b))"
   ]
  },
  {
   "attachments": {},
   "cell_type": "markdown",
   "metadata": {},
   "source": [
    "\n",
    "12. Implement a function to check if a given string is an anagram of another string.\n"
   ]
  },
  {
   "cell_type": "code",
   "execution_count": 12,
   "metadata": {},
   "outputs": [
    {
     "name": "stdout",
     "output_type": "stream",
     "text": [
      "python and ythopn are anagram.\n"
     ]
    }
   ],
   "source": [
    "def check_anagram(str1, str2):\n",
    "    if(len(str1) == len(str2)):\n",
    "        sorted_str1 = sorted(str1)\n",
    "        sorted_str2 = sorted(str2)\n",
    "        if(sorted_str1 == sorted_str2):\n",
    "            print(str1 + \" and \" + str2 + \" are anagram.\")\n",
    "        else:\n",
    "            print(str1 + \" and \" + str2 + \" are not anagram.\")\n",
    "    else:\n",
    "        print(str1 + \" and \" + str2 + \" are not anagram.\")\n",
    "\n",
    "check_anagram(\"python\", \"ythopn\")"
   ]
  },
  {
   "attachments": {},
   "cell_type": "markdown",
   "metadata": {},
   "source": [
    "13. Write a Python program to generate all permutations of a given string.\n"
   ]
  },
  {
   "cell_type": "code",
   "execution_count": 13,
   "metadata": {},
   "outputs": [
    {
     "name": "stdout",
     "output_type": "stream",
     "text": [
      "All possible strings are : \n",
      "raman ramna raamn raanm ranma ranam rmaan rmana rmaan rmana rmnaa rmnaa raamn raanm raman ramna ranam ranma rnama rnaam rnmaa rnmaa rnaam rnama arman armna aramn aranm arnma arnam amran amrna amarn amanr amnra amnar aarmn aarnm aamrn aamnr aanrm aanmr anrma anram anmra anmar anarm anamr mraan mrana mraan mrana mrnaa mrnaa maran marna maarn maanr manra manar maran marna maarn maanr manra manar mnraa mnraa mnara mnaar mnara mnaar aramn aranm arman armna arnam arnma aarmn aarnm aamrn aamnr aanrm aanmr amran amrna amarn amanr amnra amnar anram anrma anarm anamr anmra anmar nrama nraam nrmaa nrmaa nraam nrama narma naram namra namar naarm naamr nmraa nmraa nmara nmaar nmara nmaar naram narma naarm naamr namra namar "
     ]
    }
   ],
   "source": [
    "def permute(s, answer):\n",
    "\tif (len(s) == 0):\n",
    "\t\tprint(answer, end = \" \")\n",
    "\t\treturn\n",
    "\t\n",
    "\tfor i in range(len(s)):\n",
    "\t\tch = s[i]\n",
    "\t\tleft_substr = s[0:i]\n",
    "\t\tright_substr = s[i + 1:]\n",
    "\t\trest = left_substr + right_substr\n",
    "\t\tpermute(rest, answer + ch)\n",
    "\n",
    "answer = \"\"\n",
    "print(\"All possible strings are : \")\n",
    "permute(\"raman\", answer)"
   ]
  },
  {
   "attachments": {},
   "cell_type": "markdown",
   "metadata": {},
   "source": [
    "14. Implement a function to calculate the Fibonacci sequence up to a given number of terms.\n"
   ]
  },
  {
   "cell_type": "code",
   "execution_count": 14,
   "metadata": {},
   "outputs": [
    {
     "name": "stdout",
     "output_type": "stream",
     "text": [
      "5 th Fibonacci Number: \n",
      "5\n"
     ]
    }
   ],
   "source": [
    "def fibonacci(n):\n",
    "\tif n <= 1:\n",
    "\t\treturn n\n",
    "\treturn fibonacci(n-1) + fibonacci(n-2)\n",
    "\n",
    "n = 5\n",
    "print(n, \"th Fibonacci Number: \")\n",
    "print(fibonacci(n))\n"
   ]
  },
  {
   "attachments": {},
   "cell_type": "markdown",
   "metadata": {},
   "source": [
    "15. Write a program to find the median of a list of numbers.\n"
   ]
  },
  {
   "cell_type": "code",
   "execution_count": 15,
   "metadata": {},
   "outputs": [
    {
     "name": "stdout",
     "output_type": "stream",
     "text": [
      "4\n"
     ]
    }
   ],
   "source": [
    "import statistics\n",
    "\n",
    "def median(arr):\n",
    "    return statistics.mode(arr)\n",
    "\n",
    "print(median([4, 5, 8, 9, 10, 17]))\n"
   ]
  },
  {
   "attachments": {},
   "cell_type": "markdown",
   "metadata": {},
   "source": [
    "16. Implement a function to check if a given list is sorted in non-decreasing order.\n"
   ]
  },
  {
   "cell_type": "code",
   "execution_count": 16,
   "metadata": {},
   "outputs": [
    {
     "name": "stdout",
     "output_type": "stream",
     "text": [
      "No, List is not sorted.\n"
     ]
    }
   ],
   "source": [
    "def check_sorted(arr):\n",
    "\ttest_list1 = arr[:]\n",
    "\ttest_list1.sort()\n",
    "\tif (test_list1 == arr):\n",
    "\t\treturn \"Yes, List is sorted.\"\n",
    "\treturn \"No, List is not sorted.\"\n",
    "\t\t\n",
    "print(check_sorted([10, 4, 5, 8, 10]))\n"
   ]
  },
  {
   "attachments": {},
   "cell_type": "markdown",
   "metadata": {},
   "source": [
    "17. Write a Python program to find the intersection of two lists.\n"
   ]
  },
  {
   "cell_type": "code",
   "execution_count": 17,
   "metadata": {},
   "outputs": [
    {
     "name": "stdout",
     "output_type": "stream",
     "text": [
      "[66, 90, 11, 54, 58, 28, 31]\n"
     ]
    }
   ],
   "source": [
    "def intersection_list(list1, list2):  \n",
    "   return list(set(list1) & set(list2))  \n",
    "  \n",
    "list1 = [40, 90, 11, 58, 31, 66, 28, 54, 79]  \n",
    "list2 = [58, 90, 54, 31, 45, 11, 66, 28, 26]  \n",
    "  \n",
    "print(intersection_list(list1, list2))  "
   ]
  },
  {
   "attachments": {},
   "cell_type": "markdown",
   "metadata": {},
   "source": [
    "18. Implement a function to find the maximum subarray sum in a given list.\n"
   ]
  },
  {
   "cell_type": "code",
   "execution_count": 18,
   "metadata": {},
   "outputs": [
    {
     "name": "stdout",
     "output_type": "stream",
     "text": [
      "Maximum contiguous sum is 7\n"
     ]
    }
   ],
   "source": [
    "def maxSubArraySum(a, size):\n",
    "\tmax_so_far = float(\"-inf\")\n",
    "\tmax_ending_here = 0\n",
    "\tfor i in range(0, size):\n",
    "\t\tmax_ending_here = max_ending_here + a[i]\n",
    "\t\tif (max_so_far < max_ending_here):\n",
    "\t\t\tmax_so_far = max_ending_here\n",
    "\t\tif max_ending_here < 0:\n",
    "\t\t\tmax_ending_here = 0\n",
    "\treturn max_so_far\n",
    "\n",
    "a = [-2, -3, 4, -1, -2, 1, 5, -3]\n",
    "\n",
    "print( \"Maximum contiguous sum is\", maxSubArraySum(a, len(a)))\n"
   ]
  },
  {
   "attachments": {},
   "cell_type": "markdown",
   "metadata": {},
   "source": [
    "19. Write a program to remove all vowels from a given string.\n"
   ]
  },
  {
   "cell_type": "code",
   "execution_count": 19,
   "metadata": {},
   "outputs": [
    {
     "name": "stdout",
     "output_type": "stream",
     "text": [
      "GksfrGks -  Cmptr Scnc Prtl fr Gks\n"
     ]
    }
   ],
   "source": [
    "import re\n",
    "\n",
    "def rem_vowel(string):\n",
    "\treturn (re.sub(\"[aeiouAEIOU]\",\"\",string))\t\t\t\n",
    "\n",
    "string = \"GeeksforGeeks - A Computer Science Portal for Geeks\"\n",
    "print(rem_vowel(string))\n"
   ]
  },
  {
   "attachments": {},
   "cell_type": "markdown",
   "metadata": {},
   "source": [
    "20. Implement a function to reverse the order of words in a given sentence."
   ]
  },
  {
   "cell_type": "code",
   "execution_count": 20,
   "metadata": {},
   "outputs": [
    {
     "name": "stdout",
     "output_type": "stream",
     "text": [
      "much very program this like i\n"
     ]
    }
   ],
   "source": [
    "def reverse_str(str):\n",
    "\twords = str.split(' ')\n",
    "\tstring = []\n",
    "\tfor word in words:\n",
    "\t\tstring.insert(0, word)\n",
    "\n",
    "\treturn \" \".join(string)\n",
    "\n",
    "print(reverse_str(\"i like this program very much\"))"
   ]
  },
  {
   "attachments": {},
   "cell_type": "markdown",
   "metadata": {},
   "source": [
    "21. Write a Python program to check if two strings are anagrams of each other."
   ]
  },
  {
   "cell_type": "code",
   "execution_count": 21,
   "metadata": {},
   "outputs": [
    {
     "name": "stdout",
     "output_type": "stream",
     "text": [
      "The strings are anagrams.\n"
     ]
    }
   ],
   "source": [
    "def check(s1, s2):\n",
    "\t\n",
    "\tif(sorted(s1)== sorted(s2)):\n",
    "\t\tprint(\"The strings are anagrams.\")\n",
    "\telse:\n",
    "\t\tprint(\"The strings aren't anagrams.\")\t\t\n",
    "\t\t\n",
    "# driver code\n",
    "s1 =\"listen\"\n",
    "s2 =\"silent\"\n",
    "check(s1, s2)\n"
   ]
  },
  {
   "attachments": {},
   "cell_type": "markdown",
   "metadata": {},
   "source": [
    "22. Implement a function to find the first non-repeating character in a string."
   ]
  },
  {
   "cell_type": "code",
   "execution_count": 22,
   "metadata": {},
   "outputs": [
    {
     "name": "stdout",
     "output_type": "stream",
     "text": [
      "First non-repeating character is f\n"
     ]
    }
   ],
   "source": [
    "def FirstNonRepeat(s):\n",
    "\tfor i in s:\n",
    "\t\tif (s.find(i, (s.find(i)+1))) == -1:\n",
    "\t\t\tprint(\"First non-repeating character is\", i)\n",
    "\t\t\tbreak\n",
    "\treturn\n",
    "\n",
    "s = 'geeksforgeeks'\n",
    "FirstNonRepeat(s)\n"
   ]
  },
  {
   "attachments": {},
   "cell_type": "markdown",
   "metadata": {},
   "source": [
    "23. Write a program to find the prime factors of a given number."
   ]
  },
  {
   "cell_type": "code",
   "execution_count": 23,
   "metadata": {},
   "outputs": [
    {
     "name": "stdout",
     "output_type": "stream",
     "text": [
      "3\n",
      "3\n",
      "5\n",
      "7\n"
     ]
    }
   ],
   "source": [
    "import math\n",
    "\n",
    "def primeFactors(n):\n",
    "\twhile n % 2 == 0:\n",
    "\t\tprint( 2),\n",
    "\t\tn = n / 2\n",
    "\t# n must be odd at this point\n",
    "\t# so a skip of 2 ( i = i + 2) can be used\n",
    "\tfor i in range(3,int(math.sqrt(n))+1,2):\n",
    "\t\t# while i divides n , print i and divide n\n",
    "\t\twhile n % i== 0:\n",
    "\t\t\tprint( i),\n",
    "\t\t\tn = n / i\n",
    "\n",
    "\tif n > 2:\n",
    "\t\tprint( n)\n",
    "\n",
    "n = 315\n",
    "primeFactors(n)\n"
   ]
  },
  {
   "attachments": {},
   "cell_type": "markdown",
   "metadata": {},
   "source": [
    "24. Implement a function to check if a given number is a power of two.\n"
   ]
  },
  {
   "cell_type": "code",
   "execution_count": 24,
   "metadata": {},
   "outputs": [
    {
     "name": "stdout",
     "output_type": "stream",
     "text": [
      "False\n",
      "True\n"
     ]
    }
   ],
   "source": [
    "def isPowerOfTwo(n):\n",
    "\tif (n == 0):\n",
    "\t\treturn False\n",
    "\twhile (n != 1):\n",
    "\t\tif (n % 2 != 0):\n",
    "\t\t\treturn False\n",
    "\t\tn = n // 2\n",
    "\treturn True\n",
    "\n",
    "print(isPowerOfTwo(31))\n",
    "print(isPowerOfTwo(64))"
   ]
  },
  {
   "attachments": {},
   "cell_type": "markdown",
   "metadata": {},
   "source": [
    "25. Write a Python program to merge two sorted lists into a single sorted list.\n"
   ]
  },
  {
   "cell_type": "code",
   "execution_count": 25,
   "metadata": {},
   "outputs": [
    {
     "name": "stdout",
     "output_type": "stream",
     "text": [
      "[1, 3, 4, 5, 6, 7, 8, 9, 10, 11]\n"
     ]
    }
   ],
   "source": [
    "def merge_arr(arr1, arr2):\n",
    "    return sorted(arr1 + arr2)\n",
    "\n",
    "test_list1 = [1, 5, 6, 9, 11]\n",
    "test_list2 = [3, 4, 7, 8, 10]\n",
    "print(merge_arr(test_list1, test_list2))\n"
   ]
  },
  {
   "attachments": {},
   "cell_type": "markdown",
   "metadata": {},
   "source": [
    "26. Implement a function to find the mode of a list of numbers."
   ]
  },
  {
   "cell_type": "code",
   "execution_count": 26,
   "metadata": {},
   "outputs": [
    {
     "data": {
      "text/plain": [
       "'Mode is / are: 5'"
      ]
     },
     "execution_count": 26,
     "metadata": {},
     "output_type": "execute_result"
    }
   ],
   "source": [
    "from collections import Counter\n",
    "\n",
    "\n",
    "\n",
    "def find_mode(num):\n",
    "\tn = len(n_num)\n",
    "\tdata = Counter(num)\n",
    "\tget_mode = dict(data)\n",
    "\tmode = [k for k, v in get_mode.items() if v == max(list(data.values()))]\n",
    "\n",
    "\tif len(mode) == n:\n",
    "\t\tget_mode = \"No mode found\"\n",
    "\telse:\n",
    "\t\tget_mode = \"Mode is / are: \" + ', '.join(map(str, mode))\n",
    "\t\t\n",
    "\treturn get_mode\n",
    "\n",
    "n_num = [1, 2, 3, 4, 5, 5]\n",
    "find_mode(n_num)\n"
   ]
  },
  {
   "attachments": {},
   "cell_type": "markdown",
   "metadata": {},
   "source": [
    "27. Write a program to find the greatest common divisor (GCD) of two numbers."
   ]
  },
  {
   "cell_type": "code",
   "execution_count": 27,
   "metadata": {},
   "outputs": [
    {
     "name": "stdout",
     "output_type": "stream",
     "text": [
      "14\n"
     ]
    }
   ],
   "source": [
    "\n",
    "def gcd(a, b):\n",
    "\tresult = min(a, b)\n",
    "\n",
    "\twhile result:\n",
    "\t\tif a % result == 0 and b % result == 0:\n",
    "\t\t\tbreak\n",
    "\t\tresult -= 1\n",
    "\treturn result\n",
    "\n",
    "\n",
    "a = 98\n",
    "b = 56\n",
    "print(gcd(a, b))"
   ]
  },
  {
   "attachments": {},
   "cell_type": "markdown",
   "metadata": {},
   "source": [
    "28. Implement a function to calculate the square root of a given number.\n"
   ]
  },
  {
   "cell_type": "code",
   "execution_count": 28,
   "metadata": {},
   "outputs": [
    {
     "name": "stdout",
     "output_type": "stream",
     "text": [
      "3\n"
     ]
    }
   ],
   "source": [
    "def floorSqrt(x):\n",
    "\tif (x == 0 or x == 1):\n",
    "\t\treturn x\n",
    "\ti = 1\n",
    "\tresult = 1\n",
    "\twhile (result <= x):\n",
    "\t\ti += 1\n",
    "\t\tresult = i * i\n",
    "\treturn i - 1\n",
    "\n",
    "print(floorSqrt(11))\n"
   ]
  },
  {
   "attachments": {},
   "cell_type": "markdown",
   "metadata": {},
   "source": [
    "29. Write a Python program to check if a given string is a valid palindrome ignoring non-alphanumeric characters."
   ]
  },
  {
   "cell_type": "code",
   "execution_count": 29,
   "metadata": {},
   "outputs": [
    {
     "data": {
      "text/plain": [
       "True"
      ]
     },
     "execution_count": 29,
     "metadata": {},
     "output_type": "execute_result"
    }
   ],
   "source": [
    "def isPalindrome(s):\n",
    "\treturn s == s[::-1]\n",
    "\n",
    "s = \"malayalam\"\n",
    "isPalindrome(s)\n"
   ]
  },
  {
   "cell_type": "code",
   "execution_count": 30,
   "metadata": {},
   "outputs": [
    {
     "data": {
      "text/plain": [
       "True"
      ]
     },
     "execution_count": 30,
     "metadata": {},
     "output_type": "execute_result"
    }
   ],
   "source": [
    "# Alternative Ans\n",
    "def isPalindrome(str):\n",
    "\tfor i in range(0, int(len(str)/2)):\n",
    "\t\tif str[i] != str[len(str)-i-1]:\n",
    "\t\t\treturn False\n",
    "\treturn True\n",
    "\n",
    "s = \"malayalam\"\n",
    "isPalindrome(s)"
   ]
  },
  {
   "attachments": {},
   "cell_type": "markdown",
   "metadata": {},
   "source": [
    "30. Implement a function to find the minimum element in a rotated sorted list."
   ]
  },
  {
   "cell_type": "code",
   "execution_count": 31,
   "metadata": {},
   "outputs": [
    {
     "name": "stdout",
     "output_type": "stream",
     "text": [
      "1\n"
     ]
    }
   ],
   "source": [
    "def findMin(arr, N):\n",
    "\tmin_ele = arr[0];\n",
    "\n",
    "\tfor i in range(N) :\n",
    "\t\tif arr[i] < min_ele :\n",
    "\t\t\tmin_ele = arr[i]\n",
    "\n",
    "\treturn min_ele;\n",
    "\n",
    "arr = [5, 6, 1, 2, 3, 4]\n",
    "print(findMin(arr,len(arr)))\n"
   ]
  },
  {
   "cell_type": "code",
   "execution_count": 32,
   "metadata": {},
   "outputs": [
    {
     "name": "stdout",
     "output_type": "stream",
     "text": [
      "1\n"
     ]
    }
   ],
   "source": [
    "from typing import List\n",
    "\n",
    "def find_min(arr: List[int]) -> int:\n",
    "\treturn min(arr)\n",
    "\n",
    "print(find_min([5, 6, 1, 2, 3, 4]))\n"
   ]
  },
  {
   "attachments": {},
   "cell_type": "markdown",
   "metadata": {},
   "source": [
    "31. Write a program to find the sum of all even numbers in a list."
   ]
  },
  {
   "cell_type": "code",
   "execution_count": 33,
   "metadata": {},
   "outputs": [
    {
     "name": "stdout",
     "output_type": "stream",
     "text": [
      "4328\n"
     ]
    }
   ],
   "source": [
    "def even_sum(num):\n",
    "\teven_sum = 0\n",
    "\tfor each in num:\n",
    "\t\tif each % 2 == 0:\n",
    "\t\t\teven_sum = each + even_sum\n",
    "\treturn even_sum\n",
    "\n",
    "print(even_sum([345, 893, 1948, 34, 2346]))\n"
   ]
  },
  {
   "attachments": {},
   "cell_type": "markdown",
   "metadata": {},
   "source": [
    "32. Implement a function to calculate the power of a number using recursion.\n"
   ]
  },
  {
   "cell_type": "code",
   "execution_count": 34,
   "metadata": {},
   "outputs": [
    {
     "name": "stdout",
     "output_type": "stream",
     "text": [
      "25\n"
     ]
    }
   ],
   "source": [
    "def power(N, P):\n",
    "\tif P == 0:\n",
    "\t\treturn 1\n",
    "\treturn (N*power(N, P-1))\n",
    "\n",
    "print(power(5, 2))\n"
   ]
  },
  {
   "attachments": {},
   "cell_type": "markdown",
   "metadata": {},
   "source": [
    "33. Write a Python program to remove duplicates from a list while preserving the order."
   ]
  },
  {
   "cell_type": "code",
   "execution_count": 35,
   "metadata": {},
   "outputs": [
    {
     "name": "stdout",
     "output_type": "stream",
     "text": [
      "[[4, 7, 8], [1, 2, 3], [9, 10, 11]]\n"
     ]
    }
   ],
   "source": [
    "test_tup = ([4, 7, 8], [1, 2, 3], [4, 7, 8], [9, 10, 11], [1, 2, 3])\n",
    "\n",
    "def remove_dublicate(arr):\n",
    "    temp = set()\n",
    "    res = [ele for ele in arr if not(tuple(ele) in temp or temp.add(tuple(ele)))]\n",
    "    return res\n",
    "# printing result\n",
    "\n",
    "print(remove_dublicate(test_tup))\n"
   ]
  },
  {
   "cell_type": "code",
   "execution_count": 36,
   "metadata": {},
   "outputs": [
    {
     "name": "stdout",
     "output_type": "stream",
     "text": [
      "[[4, 7, 8], [1, 2, 3], [9, 10, 11]]\n"
     ]
    }
   ],
   "source": [
    "from collections import OrderedDict\n",
    "\n",
    "def remove_dublicate2(num):\n",
    "    res = list(OrderedDict((tuple(x), x) for x in test_tup).values())\n",
    "    return res\n",
    "print(remove_dublicate2(test_tup))\n"
   ]
  },
  {
   "attachments": {},
   "cell_type": "markdown",
   "metadata": {},
   "source": [
    "34. Implement a function to find the longest common prefix among a list of strings."
   ]
  },
  {
   "cell_type": "code",
   "execution_count": 37,
   "metadata": {},
   "outputs": [
    {
     "name": "stdout",
     "output_type": "stream",
     "text": [
      "car\n",
      "i\n"
     ]
    }
   ],
   "source": [
    "def longestCommonPrefix(my_str):\n",
    "\n",
    "    if not my_str:\n",
    "        return ''\n",
    "    prefix = my_str[0]\n",
    "    for word in my_str:\n",
    "        if len(prefix) > len(word):\n",
    "            prefix, word = word, prefix\n",
    "            \n",
    "        while len(prefix) > 0:\n",
    "            if word[:len(prefix)] == prefix:\n",
    "                break\n",
    "            else:\n",
    "                prefix = prefix[:-1]\n",
    "    return prefix     \n",
    "    \n",
    "my_list = ['car', 'carbon', 'carbonmonoxide']  \n",
    "result = longestCommonPrefix(my_list)\n",
    "print(result)\n",
    "\n",
    "\n",
    "my_list2 = [\"illegal\", \"immoral\", \"inconsiderate\", \"irresponsible\"]\n",
    "result = longestCommonPrefix(my_list2)\n",
    "print(result)"
   ]
  },
  {
   "attachments": {},
   "cell_type": "markdown",
   "metadata": {},
   "source": [
    "35. Write a program to check if a given number is a perfect square."
   ]
  },
  {
   "cell_type": "code",
   "execution_count": 38,
   "metadata": {},
   "outputs": [
    {
     "name": "stdout",
     "output_type": "stream",
     "text": [
      "False\n"
     ]
    }
   ],
   "source": [
    "import math\n",
    "\n",
    "def isPerfectSquare(x):\n",
    "\tif(x >= 0):\n",
    "\t\tsr = int(math.sqrt(x))\n",
    "\t\treturn ((sr*sr) == x)\n",
    "\treturn False\n",
    "\n",
    "x = 2502\n",
    "print (isPerfectSquare(2502))"
   ]
  },
  {
   "attachments": {},
   "cell_type": "markdown",
   "metadata": {},
   "source": [
    "36. Implement a function to calculate the product of all elements in a list."
   ]
  },
  {
   "cell_type": "code",
   "execution_count": 39,
   "metadata": {},
   "outputs": [
    {
     "name": "stdout",
     "output_type": "stream",
     "text": [
      "6\n",
      "24\n"
     ]
    }
   ],
   "source": [
    "def multiplyList(myList):\n",
    "\tresult = 1\n",
    "\tfor x in myList:\n",
    "\t\tresult = result * x\n",
    "\treturn result\n",
    "\n",
    "list1 = [1, 2, 3]\n",
    "list2 = [3, 2, 4]\n",
    "print(multiplyList(list1))\n",
    "print(multiplyList(list2))\n"
   ]
  },
  {
   "cell_type": "code",
   "execution_count": 40,
   "metadata": {},
   "outputs": [
    {
     "name": "stdout",
     "output_type": "stream",
     "text": [
      "6\n",
      "24\n"
     ]
    }
   ],
   "source": [
    "import numpy\n",
    "\n",
    "def multiplyList2(myList):\n",
    "\treturn numpy.prod(myList)\n",
    "\n",
    "list1 = [1, 2, 3]\n",
    "list2 = [3, 2, 4]\n",
    "print(multiplyList2(list1))\n",
    "print(multiplyList2(list2))\n"
   ]
  },
  {
   "attachments": {},
   "cell_type": "markdown",
   "metadata": {},
   "source": [
    "37. Write a Python program to reverse the order of words in a sentence while preserving the word order."
   ]
  },
  {
   "cell_type": "code",
   "execution_count": 41,
   "metadata": {},
   "outputs": [
    {
     "name": "stdout",
     "output_type": "stream",
     "text": [
      "code practice quiz in words reversing\n"
     ]
    }
   ],
   "source": [
    "def rev_sentence(str):\n",
    "\ts = string.split(\" \")[::-1]\n",
    "\treturn \" \".join(s)\n",
    "\n",
    "string = \"reversing words in quiz practice code\"\n",
    "print(rev_sentence(string))\n"
   ]
  },
  {
   "attachments": {},
   "cell_type": "markdown",
   "metadata": {},
   "source": [
    "38. Implement a function to find the missing number in a given list of consecutive numbers."
   ]
  },
  {
   "cell_type": "code",
   "execution_count": 42,
   "metadata": {},
   "outputs": [
    {
     "name": "stdout",
     "output_type": "stream",
     "text": [
      "-6\n"
     ]
    }
   ],
   "source": [
    "def findMissing(arr, n):\n",
    "\tl, h = 0, n - 1\n",
    "\tmid = 0\n",
    "\twhile (h > l):\n",
    "\t\tmid = l + (h - l) // 2\n",
    "\t\tif (arr[mid] - mid == arr[0]):\n",
    "\t\t\tif (arr[mid + 1] - arr[mid] > 1):\n",
    "\t\t\t\treturn arr[mid] + 1\n",
    "\t\t\telse:\n",
    "\t\t\t\tl = mid + 1\n",
    "\t\telse:\n",
    "\t\t\tif (arr[mid] - arr[mid - 1] > 1):\n",
    "\t\t\t\treturn arr[mid] - 1\n",
    "\t\t\telse:\n",
    "\t\t\t\th = mid - 1\n",
    "\treturn -1\n",
    "\n",
    "arr = [-9, -8, -7, -5, -4, -3, -2, -1, 0 ]\n",
    "n = len(arr)\n",
    "print(findMissing(arr, n))"
   ]
  },
  {
   "attachments": {},
   "cell_type": "markdown",
   "metadata": {},
   "source": [
    "39. Write a program to find the sum of digits of a given number."
   ]
  },
  {
   "cell_type": "code",
   "execution_count": 43,
   "metadata": {},
   "outputs": [
    {
     "name": "stdout",
     "output_type": "stream",
     "text": [
      "21\n"
     ]
    }
   ],
   "source": [
    "def getSum(n):\n",
    "\tsum = 0\n",
    "\twhile (n != 0):\n",
    "\t\tsum = sum + int(n % 10)\n",
    "\t\tn = int(n/10)\n",
    "\treturn sum\n",
    "\n",
    "n = 687\n",
    "print(getSum(n))\n"
   ]
  },
  {
   "attachments": {},
   "cell_type": "markdown",
   "metadata": {},
   "source": [
    "40. Implement a function to check if a given string is a valid palindrome considering case sensitivity."
   ]
  },
  {
   "cell_type": "code",
   "execution_count": 44,
   "metadata": {},
   "outputs": [
    {
     "name": "stdout",
     "output_type": "stream",
     "text": [
      "True\n"
     ]
    }
   ],
   "source": [
    "def isPalindrome(s):\n",
    "\treturn s == s[::-1]\n",
    "\n",
    "s = \"malayalam\"\n",
    "print(isPalindrome(s))\n"
   ]
  },
  {
   "attachments": {},
   "cell_type": "markdown",
   "metadata": {},
   "source": [
    "41. Write a Python program to find the smallest missing positive integer in a list."
   ]
  },
  {
   "cell_type": "code",
   "execution_count": 45,
   "metadata": {},
   "outputs": [
    {
     "name": "stdout",
     "output_type": "stream",
     "text": [
      "1\n"
     ]
    }
   ],
   "source": [
    "def solution(A):\n",
    "\tm = max(A)\n",
    "\tif m < 1:\n",
    "\t\treturn 1\n",
    "\tif len(A) == 1:\n",
    "\t\treturn 2 if A[0] == 1 else 1\n",
    "\tl = [0] * m\n",
    "\tfor i in range(len(A)):\n",
    "\t\tif A[i] > 0:\n",
    "\t\t\tif l[A[i] - 1] != 1:\n",
    "\t\t\t\tl[A[i] - 1] = 1\n",
    "\tfor i in range(len(l)):\n",
    "\t\tif l[i] == 0:\n",
    "\t\t\treturn i + 1\n",
    "\treturn i + 2\n",
    "\n",
    "arr = [0, 10, 2, -10, -20]\n",
    "print(solution(arr))\n"
   ]
  },
  {
   "attachments": {},
   "cell_type": "markdown",
   "metadata": {},
   "source": [
    "42. Implement a function to find the longest palindrome substring in a given string."
   ]
  },
  {
   "cell_type": "code",
   "execution_count": 46,
   "metadata": {},
   "outputs": [
    {
     "name": "stdout",
     "output_type": "stream",
     "text": [
      "Longest palindrome substring is: geeksskeeg\n",
      "Length is: 10\n"
     ]
    }
   ],
   "source": [
    "def longestPalSubstr(s):\n",
    "\tn = len(s)\n",
    "\tlongest = \"\"\n",
    "\tj = 0\n",
    "\tsubs = \"\"\n",
    "\n",
    "\tsubsrev = \"\"\n",
    "\tfor i in range(n):\n",
    "\t\tj = n-1\n",
    "\t\twhile i < j:\n",
    "\t\t\tif(s[i] == s[j] and len(longest) < (j-i+1)):\n",
    "\t\t\t\tsubs = s[i:(j+1)]\n",
    "\t\t\t\tsubsrev = subs[::-1]\n",
    "\t\t\t\tif(subs == subsrev):\n",
    "\t\t\t\t\tlongest = subs\n",
    "\t\t\tj -= 1\n",
    "\tif(len(longest) == 0):\n",
    "\t\tlongest = s[0]\n",
    "\tprint(\"Longest palindrome substring is: \" + longest)\n",
    "\n",
    "\treturn len(longest)\n",
    "\n",
    "\n",
    "stri = \"forgeeksskeegfor\"\n",
    "print(\"Length is: \" + str(longestPalSubstr(stri)))\n"
   ]
  },
  {
   "attachments": {},
   "cell_type": "markdown",
   "metadata": {},
   "source": [
    "43. Write a program to find the number of occurrences of a given element in a list."
   ]
  },
  {
   "cell_type": "code",
   "execution_count": 47,
   "metadata": {},
   "outputs": [
    {
     "name": "stdout",
     "output_type": "stream",
     "text": [
      "8 has occurred 5 times\n"
     ]
    }
   ],
   "source": [
    "def countX(lst, x):\n",
    "\tcount = 0\n",
    "\tfor ele in lst:\n",
    "\t\tif (ele == x):\n",
    "\t\t\tcount = count + 1\n",
    "\treturn count\n",
    "\n",
    "lst = [8, 6, 8, 10, 8, 20, 10, 8, 8]\n",
    "x = 8\n",
    "print('{} has occurred {} times'.format(x,\n",
    "\t\t\t\t\t\t\t\t\t\tcountX(lst, x)))\n"
   ]
  },
  {
   "attachments": {},
   "cell_type": "markdown",
   "metadata": {},
   "source": [
    "44. Implement a function to check if a given number is a perfect number.\n"
   ]
  },
  {
   "cell_type": "code",
   "execution_count": 48,
   "metadata": {},
   "outputs": [
    {
     "name": "stdout",
     "output_type": "stream",
     "text": [
      "Below are all perfect numbers till 10000\n",
      "6  is a perfect number\n",
      "28  is a perfect number\n",
      "496  is a perfect number\n",
      "8128  is a perfect number\n"
     ]
    }
   ],
   "source": [
    "def isPerfect( n ):\n",
    "\tsum = 1\n",
    "\ti = 2\n",
    "\twhile i * i <= n:\n",
    "\t\tif n % i == 0:\n",
    "\t\t\tsum = sum + i + n/i\n",
    "\t\ti += 1\n",
    "\t\n",
    "\treturn (True if sum == n and n!=1 else False)\n",
    "\n",
    "print(\"Below are all perfect numbers till 10000\")\n",
    "n = 2\n",
    "for n in range (10000):\n",
    "\tif isPerfect (n):\n",
    "\t\tprint(n , \" is a perfect number\")\n"
   ]
  },
  {
   "attachments": {},
   "cell_type": "markdown",
   "metadata": {},
   "source": [
    "45. Write a Python program to remove all duplicates from a string."
   ]
  },
  {
   "cell_type": "code",
   "execution_count": 49,
   "metadata": {},
   "outputs": [
    {
     "name": "stdout",
     "output_type": "stream",
     "text": [
      "geksfor"
     ]
    }
   ],
   "source": [
    "string=\"geeksforgeeks\"\n",
    "k2=[]\n",
    "for ele in string:\n",
    "\tif ele not in k2:\n",
    "\t\tk2.append(ele)\n",
    "for i in range(0,len(k2)):\n",
    "\tprint(k2[i],end=\"\")\n"
   ]
  },
  {
   "cell_type": "code",
   "execution_count": 50,
   "metadata": {},
   "outputs": [
    {
     "name": "stdout",
     "output_type": "stream",
     "text": [
      "geksfor\n"
     ]
    }
   ],
   "source": [
    "string=\"geeksforgeeks\"\n",
    "p=\"\"\n",
    "for char in string:\n",
    "\tif char not in p:\n",
    "\t\tp=p+char\n",
    "print(p)\n",
    "k=list(\"geeksforgeeks\")\n"
   ]
  },
  {
   "attachments": {},
   "cell_type": "markdown",
   "metadata": {},
   "source": [
    "46. Implement a function to find the first missing positive"
   ]
  },
  {
   "cell_type": "code",
   "execution_count": 51,
   "metadata": {},
   "outputs": [
    {
     "name": "stdout",
     "output_type": "stream",
     "text": [
      "1\n"
     ]
    }
   ],
   "source": [
    "def solution(A): \n",
    "\tm = max(A)\n",
    "\tif m < 1:\n",
    "\t\treturn 1\n",
    "\tif len(A) == 1:\n",
    "\t\treturn 2 if A[0] == 1 else 1\n",
    "\tl = [0] * m\n",
    "\tfor i in range(len(A)):\n",
    "\t\tif A[i] > 0:\n",
    "\t\t\tif l[A[i] - 1] != 1:\n",
    "\t\t\t\tl[A[i] - 1] = 1\n",
    "\tfor i in range(len(l)):\n",
    "\t\tif l[i] == 0:\n",
    "\t\t\treturn i + 1\n",
    "\treturn i + 2\n",
    "\n",
    "\n",
    "arr = [0, 10, 2, -10, -20]\n",
    "print(solution(arr))\n"
   ]
  }
 ],
 "metadata": {
  "kernelspec": {
   "display_name": "base",
   "language": "python",
   "name": "python3"
  },
  "language_info": {
   "codemirror_mode": {
    "name": "ipython",
    "version": 3
   },
   "file_extension": ".py",
   "mimetype": "text/x-python",
   "name": "python",
   "nbconvert_exporter": "python",
   "pygments_lexer": "ipython3",
   "version": "3.10.9"
  },
  "orig_nbformat": 4
 },
 "nbformat": 4,
 "nbformat_minor": 2
}
