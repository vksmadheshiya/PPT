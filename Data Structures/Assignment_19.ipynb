{
  "nbformat": 4,
  "nbformat_minor": 0,
  "metadata": {
    "colab": {
      "provenance": [],
      "authorship_tag": "ABX9TyMxAwuYMHNt4ESYz3kZa4uF",
      "include_colab_link": true
    },
    "kernelspec": {
      "name": "python3",
      "display_name": "Python 3"
    },
    "language_info": {
      "name": "python"
    }
  },
  "cells": [
    {
      "cell_type": "markdown",
      "metadata": {
        "id": "view-in-github",
        "colab_type": "text"
      },
      "source": [
        "<a href=\"https://colab.research.google.com/github/jayant3297/Pre_Placement_Training/blob/main/Assignment19.ipynb\" target=\"_parent\"><img src=\"https://colab.research.google.com/assets/colab-badge.svg\" alt=\"Open In Colab\"/></a>"
      ]
    },
    {
      "cell_type": "markdown",
      "source": [
        "<aside>\n",
        "💡 1. **Merge k Sorted Lists**\n",
        "\n",
        "You are given an array of `k` linked-lists `lists`, each linked-list is sorted in ascending order.\n",
        "\n",
        "*Merge all the linked-lists into one sorted linked-list and return it.*\n",
        "\n",
        "**Example 1:**\n",
        "\n",
        "</aside>\n",
        "\n",
        "Input: lists = [[1,4,5],[1,3,4],[2,6]]\n",
        "Output: [1,1,2,3,4,4,5,6]\n",
        "Explanation: The linked-lists are:\n",
        "[\n",
        "  1->4->5,\n",
        "  1->3->4,\n",
        "  2->6\n",
        "]\n",
        "merging them into one sorted list:\n",
        "1->1->2->3->4->4->5->6\n",
        "\n",
        "\n",
        "Example 2\n",
        "\n",
        "Input: lists = []\n",
        "Output: []\n",
        "\n",
        "\n",
        "Example 3\n",
        "\n",
        "Input: lists = [[]]\n",
        "Output: []\n"
      ],
      "metadata": {
        "id": "Pr1Q1ZHxQ4IA"
      }
    },
    {
      "cell_type": "code",
      "execution_count": 1,
      "metadata": {
        "id": "NMt6isOvQrfS"
      },
      "outputs": [],
      "source": [
        "import heapq\n",
        "\n",
        "class ListNode:\n",
        "    def __init__(self, val=0, next=None):\n",
        "        self.val = val\n",
        "        self.next = next\n",
        "\n",
        "def mergeKLists(lists):\n",
        "    # Create a min-heap\n",
        "    heap = []\n",
        "    # Add the first node from each list to the min-heap\n",
        "    for i in range(len(lists)):\n",
        "        if lists[i]:\n",
        "            heapq.heappush(heap, (lists[i].val, i))\n",
        "\n",
        "    # Create a dummy node and a pointer to the current position\n",
        "    dummy = ListNode(0)\n",
        "    curr = dummy\n",
        "\n",
        "    # Merge the linked lists using the min-heap\n",
        "    while heap:\n",
        "        # Remove the node with the minimum value from the min-heap\n",
        "        val, idx = heapq.heappop(heap)\n",
        "        # Append the node to the merged list\n",
        "        curr.next = ListNode(val)\n",
        "        curr = curr.next\n",
        "        # Move to the next position in the linked list\n",
        "        lists[idx] = lists[idx].next\n",
        "        # Add the next node to the min-heap if it exists\n",
        "        if lists[idx]:\n",
        "            heapq.heappush(heap, (lists[idx].val, idx))\n",
        "\n",
        "    # Return the merged sorted linked list\n",
        "    return dummy.next"
      ]
    },
    {
      "cell_type": "code",
      "source": [
        "# Example 1\n",
        "lists = [ListNode(1, ListNode(4, ListNode(5))),\n",
        "         ListNode(1, ListNode(3, ListNode(4))),\n",
        "         ListNode(2, ListNode(6))]\n",
        "\n",
        "result = mergeKLists(lists)\n",
        "while result:\n",
        "    print(result.val, end=\" \")\n",
        "    result = result.next\n",
        "\n",
        "\n",
        "# Example 2\n",
        "lists = []\n",
        "result = mergeKLists(lists)\n",
        "while result:\n",
        "    print(result.val, end=\" \")\n",
        "    result = result.next\n",
        "\n",
        "\n",
        "# Example 3\n",
        "lists = [[]]\n",
        "result = mergeKLists(lists)\n",
        "while result:\n",
        "    print(result.val, end=\" \")\n",
        "    result = result.next\n"
      ],
      "metadata": {
        "colab": {
          "base_uri": "https://localhost:8080/"
        },
        "id": "xxGHLWUtRQJK",
        "outputId": "ac7ddf92-b2b0-4cc1-9662-8bdc84b84b8c"
      },
      "execution_count": 2,
      "outputs": [
        {
          "output_type": "stream",
          "name": "stdout",
          "text": [
            "1 1 2 3 4 4 5 6 "
          ]
        }
      ]
    },
    {
      "cell_type": "markdown",
      "source": [
        "<aside>\n",
        "💡 2. **Count of Smaller Numbers After Self**\n",
        "\n",
        "Given an integer array `nums`, return *an integer array* `counts` *where* `counts[i]` *is the number of smaller elements to the right of* `nums[i]`.\n",
        "\n",
        "**Example 1:**\n",
        "\n",
        "</aside>\n",
        "\n",
        "Input: nums = [5,2,6,1]\n",
        "Output: [2,1,1,0]\n",
        "Explanation:\n",
        "To the right of 5 there are2 smaller elements (2 and 1).\n",
        "To the right of 2 there is only1 smaller element (1).\n",
        "To the right of 6 there is1 smaller element (1).\n",
        "To the right of 1 there is0 smaller element.\n",
        "\n",
        "Example 2\n",
        "\n",
        "Input: nums = [-1]\n",
        "Output: [0]\n",
        "\n",
        "Example 3\n",
        "Input: nums = [-1,-1]\n",
        "Output: [0,0]\n"
      ],
      "metadata": {
        "id": "2alOvS4VRZpY"
      }
    },
    {
      "cell_type": "code",
      "source": [
        "def countSmaller(nums):\n",
        "    def mergeSort(arr):\n",
        "        if len(arr) <= 1:\n",
        "            return arr\n",
        "\n",
        "        mid = len(arr) // 2\n",
        "        left = mergeSort(arr[:mid])\n",
        "        right = mergeSort(arr[mid:])\n",
        "        merged = []\n",
        "        i, j = 0, 0\n",
        "        while i < len(left):\n",
        "            if j == len(right) or left[i][0] <= right[j][0]:\n",
        "                counts[left[i][1]] += j\n",
        "                merged.append(left[i])\n",
        "                i += 1\n",
        "            else:\n",
        "                merged.append(right[j])\n",
        "                j += 1\n",
        "        merged.extend(right[j:])\n",
        "        return merged\n",
        "\n",
        "    n = len(nums)\n",
        "    pairs = [(nums[i], i) for i in range(n)]\n",
        "    counts = [0] * n\n",
        "    mergeSort(pairs)\n",
        "\n",
        "    return counts"
      ],
      "metadata": {
        "id": "Hl18heT_RWbG"
      },
      "execution_count": 3,
      "outputs": []
    },
    {
      "cell_type": "code",
      "source": [
        "# Example usage:\n",
        "nums = [5, 2, 6, 1]\n",
        "result = countSmaller(nums)\n",
        "print(result)\n",
        "\n",
        "\n",
        "nums = [-1]\n",
        "result = countSmaller(nums)\n",
        "print(result)\n",
        "\n",
        "\n",
        "nums = [-1, -1]\n",
        "result = countSmaller(nums)\n",
        "print(result)\n"
      ],
      "metadata": {
        "colab": {
          "base_uri": "https://localhost:8080/"
        },
        "id": "TLoNjHo6RxRd",
        "outputId": "da354f68-cb3c-43d1-fbbb-29f2968b9b39"
      },
      "execution_count": 4,
      "outputs": [
        {
          "output_type": "stream",
          "name": "stdout",
          "text": [
            "[2, 1, 1, 0]\n",
            "[0]\n",
            "[0, 0]\n"
          ]
        }
      ]
    },
    {
      "cell_type": "markdown",
      "source": [
        "<aside>\n",
        "💡 3. **Sort an Array**\n",
        "\n",
        "Given an array of integers `nums`, sort the array in ascending order and return it.\n",
        "\n",
        "You must solve the problem **without using any built-in** functions in `O(nlog(n))` time complexity and with the smallest space complexity possible.\n",
        "\n",
        "**Example 1:**\n",
        "\n",
        "</aside>\n",
        "\n",
        "Input: nums = [5,2,3,1]\n",
        "Output: [1,2,3,5]\n",
        "Explanation: After sorting the array, the positions of some numbers are not changed (for example, 2 and 3), while the positions of other numbers are changed (for example, 1 and 5).\n",
        "\n",
        "\n",
        "Example 2:\n",
        "\n",
        "Input: nums = [5,1,1,2,0,0]\n",
        "Output: [0,0,1,1,2,5]\n",
        "Explanation: Note that the values of nums are not necessairly unique.\n"
      ],
      "metadata": {
        "id": "YavtJLLTR4nh"
      }
    },
    {
      "cell_type": "code",
      "source": [
        "def partition(nums, low, high):\n",
        "    pivot = nums[high]\n",
        "    i = low\n",
        "    for j in range(low, high):\n",
        "        if nums[j] <= pivot:\n",
        "            nums[i], nums[j] = nums[j], nums[i]\n",
        "            i += 1\n",
        "    nums[i], nums[high] = nums[high], nums[i]\n",
        "    return i\n",
        "\n",
        "def quicksort(nums, low, high):\n",
        "    if low < high:\n",
        "        pivot = partition(nums, low, high)\n",
        "        quicksort(nums, low, pivot - 1)\n",
        "        quicksort(nums, pivot + 1, high)\n",
        "\n",
        "def sortArray(nums):\n",
        "    quicksort(nums, 0, len(nums) - 1)\n",
        "    return nums"
      ],
      "metadata": {
        "id": "-a0v14g5RzrN"
      },
      "execution_count": 5,
      "outputs": []
    },
    {
      "cell_type": "code",
      "source": [
        "nums = [5, 2, 3, 1]\n",
        "result = sortArray(nums)\n",
        "print(result)\n",
        "\n",
        "\n",
        "nums = [5, 1, 1, 2, 0, 0]\n",
        "result = sortArray(nums)\n",
        "print(result)"
      ],
      "metadata": {
        "colab": {
          "base_uri": "https://localhost:8080/"
        },
        "id": "_Ct_6f09SQav",
        "outputId": "2196cb36-140c-4ffd-f3de-b0b2936d859c"
      },
      "execution_count": 6,
      "outputs": [
        {
          "output_type": "stream",
          "name": "stdout",
          "text": [
            "[1, 2, 3, 5]\n",
            "[0, 0, 1, 1, 2, 5]\n"
          ]
        }
      ]
    },
    {
      "cell_type": "markdown",
      "source": [
        "<aside>\n",
        "💡 4. **Move all zeroes to end of array**\n",
        "\n",
        "Given an array of random numbers, Push all the zero’s of a given array to the end of the array. For example, if the given arrays is {1, 9, 8, 4, 0, 0, 2, 7, 0, 6, 0}, it should be changed to {1, 9, 8, 4, 2, 7, 6, 0, 0, 0, 0}. The order of all other elements should be same. Expected time complexity is O(n) and extra space is O(1).\n",
        "\n",
        "**Example:**\n",
        "\n",
        "</aside>\n",
        "\n",
        "Input :  arr[] = {1, 2, 0, 4, 3, 0, 5, 0};\n",
        "Output : arr[] = {1, 2, 4, 3, 5, 0, 0, 0};\n",
        "\n",
        "Input : arr[]  = {1, 2, 0, 0, 0, 3, 6};\n",
        "Output : arr[] = {1, 2, 3, 6, 0, 0, 0};"
      ],
      "metadata": {
        "id": "N1r1y5iVSY_K"
      }
    },
    {
      "cell_type": "code",
      "source": [
        "def moveZeroes(arr):\n",
        "    n = len(arr)\n",
        "    j = 0\n",
        "    for i in range(n):\n",
        "        if arr[i] != 0:\n",
        "            arr[i], arr[j] = arr[j], arr[i]\n",
        "            j += 1\n",
        "    for i in range(j, n):\n",
        "        arr[i] = 0\n",
        "    return arr"
      ],
      "metadata": {
        "id": "agqlnLmLSTKx"
      },
      "execution_count": 7,
      "outputs": []
    },
    {
      "cell_type": "code",
      "source": [
        "arr = [1, 2, 0, 4, 3, 0, 5, 0]\n",
        "result = moveZeroes(arr)\n",
        "print(result)\n",
        "\n",
        "\n",
        "arr = [1, 2, 0, 0, 0, 3, 6]\n",
        "result = moveZeroes(arr)\n",
        "print(result)"
      ],
      "metadata": {
        "colab": {
          "base_uri": "https://localhost:8080/"
        },
        "id": "Z8OBH6gBSkWb",
        "outputId": "06eb802e-19c8-4fdb-9fe4-bf49e1979281"
      },
      "execution_count": 8,
      "outputs": [
        {
          "output_type": "stream",
          "name": "stdout",
          "text": [
            "[1, 2, 4, 3, 5, 0, 0, 0]\n",
            "[1, 2, 3, 6, 0, 0, 0]\n"
          ]
        }
      ]
    },
    {
      "cell_type": "markdown",
      "source": [
        "<aside>\n",
        "💡 5. **Rearrange array in alternating positive & negative items with O(1) extra space**\n",
        "\n",
        "Given an **array of positive** and **negative numbers**, arrange them in an **alternate** fashion such that every positive number is followed by a negative and vice-versa maintaining the **order of appearance**. The number of positive and negative numbers need not be equal. If there are more positive numbers they appear at the end of the array. If there are more negative numbers, they too appear at the end of the array.\n",
        "\n",
        "</aside>\n",
        "\n",
        "**Examples:**\n",
        "\n",
        "> Input:  arr[] = {1, 2, 3, -4, -1, 4}\n",
        "Output: arr[] = {-4, 1, -1, 2, 3, 4}\n",
        "\n",
        "Input:  arr[] = {-5, -2, 5, 2, 4, 7, 1, 8, 0, -8}\n",
        "Output: arr[] = {-5, 5, -2, 2, -8, 4, 7, 1, 8, 0}\n",
        ">"
      ],
      "metadata": {
        "id": "MlVHsu-KThA8"
      }
    },
    {
      "cell_type": "code",
      "source": [
        "def rearrangeArray(arr):\n",
        "    positive = []\n",
        "    negative = []\n",
        "\n",
        "    for num in arr:\n",
        "        if num >= 0:\n",
        "            positive.append(num)\n",
        "        else:\n",
        "            negative.append(num)\n",
        "\n",
        "    result = []\n",
        "    i, j = 0, 0\n",
        "\n",
        "    while i < len(positive) and j < len(negative):\n",
        "        result.append(positive[i])\n",
        "        result.append(negative[j])\n",
        "        i += 1\n",
        "        j += 1\n",
        "\n",
        "    # Append any remaining positive or negative numbers\n",
        "    while i < len(positive):\n",
        "        result.append(positive[i])\n",
        "        i += 1\n",
        "\n",
        "    while j < len(negative):\n",
        "        result.append(negative[j])\n",
        "        j += 1\n",
        "\n",
        "    return result"
      ],
      "metadata": {
        "id": "pppvvcpBS_AO"
      },
      "execution_count": 13,
      "outputs": []
    },
    {
      "cell_type": "code",
      "source": [
        "arr = [1, 2, 3, -4, -1, 4]\n",
        "result = rearrangeArray(arr)\n",
        "print(result)\n",
        "\n",
        "\n",
        "arr = [-5, -2, 5, 2, 4, 7, 1, 8, 0, -8]\n",
        "result = rearrangeArray(arr)\n",
        "print(result)"
      ],
      "metadata": {
        "colab": {
          "base_uri": "https://localhost:8080/"
        },
        "id": "8dGopXR_T8tI",
        "outputId": "93b2e8aa-a77f-4fb2-d0b3-1206b865d927"
      },
      "execution_count": 14,
      "outputs": [
        {
          "output_type": "stream",
          "name": "stdout",
          "text": [
            "[1, -4, 2, -1, 3, 4]\n",
            "[5, -5, 2, -2, 4, -8, 7, 1, 8, 0]\n"
          ]
        }
      ]
    },
    {
      "cell_type": "markdown",
      "source": [
        "<aside>\n",
        "💡 **6. Merge two sorted arrays**\n",
        "\n",
        "Given two sorted arrays, the task is to merge them in a sorted manner.\n",
        "\n",
        "**Examples:**\n",
        "\n",
        "> Input: arr1[] = { 1, 3, 4, 5}, arr2[] = {2, 4, 6, 8}\n",
        "Output: arr3[] = {1, 2, 3, 4, 4, 5, 6, 8}\n",
        "\n",
        "Input: arr1[] = { 5, 8, 9}, arr2[] = {4, 7, 8}\n",
        "Output: arr3[] = {4, 5, 7, 8, 8, 9}\n",
        ">\n",
        "</aside>"
      ],
      "metadata": {
        "id": "tOhV03rkV61m"
      }
    },
    {
      "cell_type": "code",
      "source": [
        "def mergeSortedArrays(arr1, arr2):\n",
        "    n1 = len(arr1)\n",
        "    n2 = len(arr2)\n",
        "    merged = []\n",
        "    i = 0\n",
        "    j = 0\n",
        "\n",
        "    # Merge the two arrays in a sorted manner\n",
        "    while i < n1 and j < n2:\n",
        "        if arr1[i] <= arr2[j]:\n",
        "            merged.append(arr1[i])\n",
        "            i += 1\n",
        "        else:\n",
        "            merged.append(arr2[j])\n",
        "            j += 1\n",
        "\n",
        "    # Append the remaining elements of arr1\n",
        "    while i < n1:\n",
        "        merged.append(arr1[i])\n",
        "        i += 1\n",
        "\n",
        "    # Append the remaining elements of arr2\n",
        "    while j < n2:\n",
        "        merged.append(arr2[j])\n",
        "        j += 1\n",
        "\n",
        "    return merged"
      ],
      "metadata": {
        "id": "c3hegotOT-_k"
      },
      "execution_count": 15,
      "outputs": []
    },
    {
      "cell_type": "code",
      "source": [
        "arr1 = [1, 3, 4, 5]\n",
        "arr2 = [2, 4, 6, 8]\n",
        "result = mergeSortedArrays(arr1, arr2)\n",
        "print(result)\n",
        "\n",
        "\n",
        "arr1 = [5, 8, 9]\n",
        "arr2 = [4, 7, 8]\n",
        "result = mergeSortedArrays(arr1, arr2)\n",
        "print(result)"
      ],
      "metadata": {
        "colab": {
          "base_uri": "https://localhost:8080/"
        },
        "id": "SbXPZE6rWCMg",
        "outputId": "6f4a12a7-0d1a-4d64-871f-5f064f3a231f"
      },
      "execution_count": 16,
      "outputs": [
        {
          "output_type": "stream",
          "name": "stdout",
          "text": [
            "[1, 2, 3, 4, 4, 5, 6, 8]\n",
            "[4, 5, 7, 8, 8, 9]\n"
          ]
        }
      ]
    },
    {
      "cell_type": "markdown",
      "source": [
        "<aside>\n",
        "💡 7. **Intersection of Two Arrays**\n",
        "\n",
        "Given two integer arrays `nums1` and `nums2`, return *an array of their intersection*. Each element in the result must be **unique** and you may return the result in **any order**.\n",
        "\n",
        "**Example 1:**\n",
        "\n",
        "</aside>\n",
        "\n",
        "Input: nums1 = [1,2,2,1], nums2 = [2,2]\n",
        "Output: [2]\n",
        "\n",
        "**Example 2**\n",
        "\n",
        "Input: nums1 = [4,9,5], nums2 = [9,4,9,8,4]\n",
        "Output: [9,4]\n",
        "Explanation: [4,9] is also accepted.\n"
      ],
      "metadata": {
        "id": "gk3ZIK1WWJFS"
      }
    },
    {
      "cell_type": "code",
      "source": [
        "def intersection(nums1, nums2):\n",
        "    set1 = set(nums1)\n",
        "    set2 = set(nums2)\n",
        "    return list(set1.intersection(set2))"
      ],
      "metadata": {
        "id": "sH59_OQNWFRG"
      },
      "execution_count": 17,
      "outputs": []
    },
    {
      "cell_type": "code",
      "source": [
        "nums1 = [1, 2, 2, 1]\n",
        "nums2 = [2, 2]\n",
        "result = intersection(nums1, nums2)\n",
        "print(result)\n",
        "\n",
        "\n",
        "nums1 = [4, 9, 5]\n",
        "nums2 = [9, 4, 9, 8, 4]\n",
        "result = intersection(nums1, nums2)\n",
        "print(result)"
      ],
      "metadata": {
        "colab": {
          "base_uri": "https://localhost:8080/"
        },
        "id": "DT_lJJ0rWX-v",
        "outputId": "25f036b5-ab7d-4e9d-e76a-38965568ff0f"
      },
      "execution_count": 18,
      "outputs": [
        {
          "output_type": "stream",
          "name": "stdout",
          "text": [
            "[2]\n",
            "[9, 4]\n"
          ]
        }
      ]
    },
    {
      "cell_type": "markdown",
      "source": [
        "<aside>\n",
        "💡 8. **Intersection of Two Arrays II**\n",
        "\n",
        "Given two integer arrays `nums1` and `nums2`, return *an array of their intersection*. Each element in the result must appear as many times as it shows in both arrays and you may return the result in **any order**.\n",
        "\n",
        "**Example 1:**\n",
        "\n",
        "</aside>\n",
        "\n",
        "Input: nums1 = [1,2,2,1], nums2 = [2,2]\n",
        "Output: [2,2]\n",
        "\n",
        "**Example 2**\n",
        "\n",
        "Input: nums1 = [4,9,5], nums2 = [9,4,9,8,4]\n",
        "Output: [4,9]\n",
        "Explanation: [9,4] is also accepted.\n"
      ],
      "metadata": {
        "id": "Sh1GXR8TWddF"
      }
    },
    {
      "cell_type": "code",
      "source": [
        "from collections import Counter\n",
        "\n",
        "def intersect(nums1, nums2):\n",
        "    counter1 = Counter(nums1)\n",
        "    result = []\n",
        "\n",
        "    for num in nums2:\n",
        "        if num in counter1 and counter1[num] > 0:\n",
        "            result.append(num)\n",
        "            counter1[num] -= 1\n",
        "\n",
        "    return result"
      ],
      "metadata": {
        "id": "1pJzDd-YWZ3z"
      },
      "execution_count": 19,
      "outputs": []
    },
    {
      "cell_type": "code",
      "source": [
        "# Example usage:\n",
        "nums1 = [1, 2, 2, 1]\n",
        "nums2 = [2, 2]\n",
        "result = intersect(nums1, nums2)\n",
        "print(result)\n",
        "\n",
        "\n",
        "nums1 = [4, 9, 5]\n",
        "nums2 = [9, 4, 9, 8, 4]\n",
        "result = intersect(nums1, nums2)\n",
        "print(result)"
      ],
      "metadata": {
        "colab": {
          "base_uri": "https://localhost:8080/"
        },
        "id": "1Xs7M6AuWqDn",
        "outputId": "d1a0a368-dc7d-41a4-f2a2-ce329c274039"
      },
      "execution_count": 20,
      "outputs": [
        {
          "output_type": "stream",
          "name": "stdout",
          "text": [
            "[2, 2]\n",
            "[9, 4]\n"
          ]
        }
      ]
    },
    {
      "cell_type": "code",
      "source": [],
      "metadata": {
        "id": "kPNvCk_FWsUt"
      },
      "execution_count": null,
      "outputs": []
    }
  ]
}