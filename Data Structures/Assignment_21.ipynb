{
  "nbformat": 4,
  "nbformat_minor": 0,
  "metadata": {
    "colab": {
      "provenance": [],
      "authorship_tag": "ABX9TyPGwZT6MMtubewPLD0loz+R",
      "include_colab_link": true
    },
    "kernelspec": {
      "name": "python3",
      "display_name": "Python 3"
    },
    "language_info": {
      "name": "python"
    }
  },
  "cells": [
    {
      "cell_type": "markdown",
      "metadata": {
        "id": "view-in-github",
        "colab_type": "text"
      },
      "source": [
        "<a href=\"https://colab.research.google.com/github/jayant3297/Pre_Placement_Training/blob/main/Assignment21.ipynb\" target=\"_parent\"><img src=\"https://colab.research.google.com/assets/colab-badge.svg\" alt=\"Open In Colab\"/></a>"
      ]
    },
    {
      "cell_type": "markdown",
      "source": [
        "<aside>\n",
        "💡 Question-1\n",
        "\n",
        "You are given a binary tree. The binary tree is represented using the TreeNode class. Each TreeNode has an integer value and left and right children, represented using the TreeNode class itself. Convert this binary tree into a binary search tree.\n",
        "\n",
        "Input:\n",
        "\n",
        "        10\n",
        "\n",
        "       /   \\\n",
        "\n",
        "     2      7\n",
        "\n",
        "   /   \\\n",
        "\n",
        " 8      4\n",
        "\n",
        "Output:\n",
        "\n",
        "        8\n",
        "\n",
        "      /   \\\n",
        "\n",
        "    4     10\n",
        "\n",
        "  /   \\\n",
        "\n",
        "2      7\n",
        "\n",
        "</aside>"
      ],
      "metadata": {
        "id": "XkawgDKptXxB"
      }
    },
    {
      "cell_type": "code",
      "execution_count": 1,
      "metadata": {
        "colab": {
          "base_uri": "https://localhost:8080/"
        },
        "id": "Pwn1gIWHtQ7S",
        "outputId": "9f8cb4f5-0dbd-4b45-c6fb-17f49023349b"
      },
      "outputs": [
        {
          "output_type": "stream",
          "name": "stdout",
          "text": [
            "Input:\n",
            "      10\n",
            "     /  \\\n",
            "   2     7\n",
            " /   \\\n",
            "8     4\n",
            "\n",
            "Output:\n",
            "      8\n",
            "     /  \\\n",
            "   4     10\n",
            " /   \\\n",
            "2     7\n"
          ]
        }
      ],
      "source": [
        "class TreeNode:\n",
        "    def __init__(self, val):\n",
        "        self.val = val\n",
        "        self.left = None\n",
        "        self.right = None\n",
        "\n",
        "def inOrderTraversal(root, values):\n",
        "    if root is None:\n",
        "        return\n",
        "\n",
        "    inOrderTraversal(root.left, values)\n",
        "    values.append(root.val)\n",
        "    inOrderTraversal(root.right, values)\n",
        "\n",
        "def convertToBST(root, values):\n",
        "    if root is None:\n",
        "        return\n",
        "\n",
        "    convertToBST(root.left, values)\n",
        "    root.val = values.pop(0)\n",
        "    convertToBST(root.right, values)\n",
        "\n",
        "def binaryTreeToBST(root):\n",
        "    values = []\n",
        "    inOrderTraversal(root, values)\n",
        "    values.sort()\n",
        "    convertToBST(root, values)\n",
        "\n",
        "# Example usage\n",
        "root = TreeNode(10)\n",
        "root.left = TreeNode(2)\n",
        "root.right = TreeNode(7)\n",
        "root.left.left = TreeNode(8)\n",
        "root.left.right = TreeNode(4)\n",
        "\n",
        "print(\"Input:\")\n",
        "print(\"      10\")\n",
        "print(\"     /  \\\\\")\n",
        "print(\"   2     7\")\n",
        "print(\" /   \\\\\")\n",
        "print(\"8     4\")\n",
        "\n",
        "binaryTreeToBST(root)\n",
        "\n",
        "print(\"\\nOutput:\")\n",
        "print(\"      8\")\n",
        "print(\"     /  \\\\\")\n",
        "print(\"   4     10\")\n",
        "print(\" /   \\\\\")\n",
        "print(\"2     7\")\n"
      ]
    },
    {
      "cell_type": "markdown",
      "source": [
        "<aside>\n",
        "💡 Question-2:\n",
        "\n",
        "Given a Binary Search Tree with all unique values and two keys. Find the distance between two nodes in BST. The given keys always exist in BST.\n",
        "\n",
        "Example:\n",
        "\n",
        "Consider the following BST:\n",
        "\n",
        "</aside>\n",
        "\n",
        "**Input-1:**\n",
        "\n",
        "n = 9\n",
        "\n",
        "values = [8, 3, 1, 6, 4, 7, 10, 14,13]\n",
        "\n",
        "node-1 = 6\n",
        "\n",
        "node-2 = 14\n",
        "\n",
        "**Output-1:**\n",
        "\n",
        "The distance between the two keys = 4\n",
        "\n",
        "**Input-2:**\n",
        "\n",
        "n = 9\n",
        "\n",
        "values = [8, 3, 1, 6, 4, 7, 10, 14,13]\n",
        "\n",
        "node-1 = 3\n",
        "\n",
        "node-2 = 4\n",
        "\n",
        "**Output-2:**\n",
        "\n",
        "The distance between the two keys = 2"
      ],
      "metadata": {
        "id": "SVgzjhVytqNe"
      }
    },
    {
      "cell_type": "code",
      "source": [
        "class TreeNode:\n",
        "    def __init__(self, val):\n",
        "        self.val = val\n",
        "        self.left = None\n",
        "        self.right = None\n",
        "\n",
        "def findLCA(root, node1, node2):\n",
        "    if root.val > node1.val and root.val > node2.val:\n",
        "        return findLCA(root.left, node1, node2)\n",
        "    elif root.val < node1.val and root.val < node2.val:\n",
        "        return findLCA(root.right, node1, node2)\n",
        "    else:\n",
        "        return root\n",
        "\n",
        "def findDistance(root, target):\n",
        "    if root.val == target.val:\n",
        "        return 0\n",
        "    elif root.val > target.val:\n",
        "        return 1 + findDistance(root.left, target)\n",
        "    else:\n",
        "        return 1 + findDistance(root.right, target)\n",
        "\n",
        "def findNode(root, value):\n",
        "    if root is None or root.val == value:\n",
        "        return root\n",
        "    elif root.val > value:\n",
        "        return findNode(root.left, value)\n",
        "    else:\n",
        "        return findNode(root.right, value)\n",
        "\n",
        "def findDistanceBetweenNodes(root, value1, value2):\n",
        "    node1 = findNode(root, value1)\n",
        "    node2 = findNode(root, value2)\n",
        "\n",
        "    lca = findLCA(root, node1, node2)\n",
        "    distance1 = findDistance(lca, node1)\n",
        "    distance2 = findDistance(lca, node2)\n",
        "\n",
        "    return distance1 + distance2\n"
      ],
      "metadata": {
        "id": "gEmZhHQdthM9"
      },
      "execution_count": 2,
      "outputs": []
    },
    {
      "cell_type": "code",
      "source": [
        "root = TreeNode(8)\n",
        "root.left = TreeNode(3)\n",
        "root.right = TreeNode(10)\n",
        "root.left.left = TreeNode(1)\n",
        "root.left.right = TreeNode(6)\n",
        "root.left.right.left = TreeNode(4)\n",
        "root.left.right.right = TreeNode(7)\n",
        "root.right.right = TreeNode(14)\n",
        "root.right.right.left = TreeNode(13)\n",
        "\n",
        "values = [8, 3, 1, 6, 4, 7, 10, 14, 13]\n",
        "value1 = 6\n",
        "value2 = 14\n",
        "distance = findDistanceBetweenNodes(root, value1, value2)\n",
        "print()\n",
        "print(\"The distance between the two keys =\", distance)"
      ],
      "metadata": {
        "colab": {
          "base_uri": "https://localhost:8080/"
        },
        "id": "QwHGpWJ5uBGi",
        "outputId": "453f43ef-123b-4409-c783-1efbf2d98b17"
      },
      "execution_count": 3,
      "outputs": [
        {
          "output_type": "stream",
          "name": "stdout",
          "text": [
            "\n",
            "The distance between the two keys = 4\n"
          ]
        }
      ]
    },
    {
      "cell_type": "code",
      "source": [
        "value1 = 3\n",
        "value2 = 4\n",
        "distance = findDistanceBetweenNodes(root, value1, value2)\n",
        "print(\"\\nOutput 2:\")\n",
        "print(\"The distance between the two keys =\", distance)"
      ],
      "metadata": {
        "colab": {
          "base_uri": "https://localhost:8080/"
        },
        "id": "wS_T29Z1uGqw",
        "outputId": "59ece69c-8e04-46ae-ccf8-25b99d140b8b"
      },
      "execution_count": 4,
      "outputs": [
        {
          "output_type": "stream",
          "name": "stdout",
          "text": [
            "\n",
            "Output 2:\n",
            "The distance between the two keys = 2\n"
          ]
        }
      ]
    },
    {
      "cell_type": "markdown",
      "source": [
        "<aside>\n",
        "💡 Question-3:\n",
        "\n",
        "Write a program to convert a binary tree to a doubly linked list.\n",
        "\n",
        "Input:\n",
        "\n",
        "        10\n",
        "\n",
        "       /   \\\n",
        "\n",
        "     5     20\n",
        "\n",
        "           /   \\\n",
        "\n",
        "        30     35\n",
        "\n",
        "Output:\n",
        "\n",
        "5 10 30 20 35\n",
        "\n",
        "</aside>"
      ],
      "metadata": {
        "id": "g49m5SoXuQtZ"
      }
    },
    {
      "cell_type": "code",
      "source": [
        "class Node:\n",
        "    def __init__(self, val):\n",
        "        self.val = val\n",
        "        self.left = None\n",
        "        self.right = None\n",
        "\n",
        "def convertToDLLUtil(root, prev):\n",
        "    if root is None:\n",
        "        return\n",
        "\n",
        "    convertToDLLUtil(root.left, prev)\n",
        "\n",
        "    root.left = prev[0]\n",
        "    if prev[0] is not None:\n",
        "        prev[0].right = root\n",
        "\n",
        "    prev[0] = root\n",
        "\n",
        "    convertToDLLUtil(root.right, prev)\n",
        "\n",
        "def convertToDLL(root):\n",
        "    prev = [None]\n",
        "    convertToDLLUtil(root, prev)\n",
        "\n",
        "def printDLL(head):\n",
        "    current = head\n",
        "    while current is not None:\n",
        "        print(current.val, end=\" \")\n",
        "        current = current.right\n",
        "    print()\n"
      ],
      "metadata": {
        "id": "jYF8O4nBuMSD"
      },
      "execution_count": 5,
      "outputs": []
    },
    {
      "cell_type": "code",
      "source": [
        "root = Node(10)\n",
        "root.left = Node(5)\n",
        "root.right = Node(20)\n",
        "root.right.left = Node(30)\n",
        "root.right.right = Node(35)\n",
        "\n",
        "print(\"Input:\")\n",
        "print(\"         10\")\n",
        "print(\"        /   \\\\\")\n",
        "print(\"      5      20\")\n",
        "print(\"             /   \\\\\")\n",
        "print(\"          30     35\")\n",
        "\n",
        "convertToDLL(root)\n",
        "\n",
        "print(\"\\nOutput:\")\n",
        "printDLL(root.left)"
      ],
      "metadata": {
        "colab": {
          "base_uri": "https://localhost:8080/"
        },
        "id": "HfH6xL8VubO-",
        "outputId": "a4be89b6-2f5c-440c-8e17-5896d451d681"
      },
      "execution_count": 6,
      "outputs": [
        {
          "output_type": "stream",
          "name": "stdout",
          "text": [
            "Input:\n",
            "         10\n",
            "        /   \\\n",
            "      5      20\n",
            "             /   \\\n",
            "          30     35\n",
            "\n",
            "Output:\n",
            "5 10 30 20 35 \n"
          ]
        }
      ]
    },
    {
      "cell_type": "markdown",
      "source": [
        "<aside>\n",
        "💡 Question-4:\n",
        "\n",
        "Write a program to connect nodes at the same level.\n",
        "\n",
        "Input:\n",
        "\n",
        "        1\n",
        "\n",
        "      /   \\\n",
        "\n",
        "    2      3\n",
        "\n",
        "  /   \\   /   \\\n",
        "\n",
        "4     5 6    7\n",
        "\n",
        "Output:\n",
        "\n",
        "1 → -1\n",
        "\n",
        "2 → 3\n",
        "\n",
        "3 → -1\n",
        "\n",
        "4 → 5\n",
        "\n",
        "5 → 6\n",
        "\n",
        "6 → 7\n",
        "\n",
        "7 → -1\n",
        "\n",
        "</aside>"
      ],
      "metadata": {
        "id": "Gy15Eavmuk1-"
      }
    },
    {
      "cell_type": "code",
      "source": [
        "class Node:\n",
        "    def __init__(self, val):\n",
        "        self.val = val\n",
        "        self.left = None\n",
        "        self.right = None\n",
        "        self.next = None\n",
        "\n",
        "def connectNodes(root):\n",
        "    if root is None:\n",
        "        return\n",
        "\n",
        "    level_start = root\n",
        "\n",
        "    while level_start:\n",
        "        current = level_start\n",
        "        dummy = Node(0)\n",
        "        prev = dummy\n",
        "\n",
        "        while current:\n",
        "            if current.left:\n",
        "                prev.next = current.left\n",
        "                prev = current.left\n",
        "\n",
        "            if current.right:\n",
        "                prev.next = current.right\n",
        "                prev = current.right\n",
        "\n",
        "            current = current.next\n",
        "\n",
        "        level_start = dummy.next\n",
        "\n",
        "def printConnectedNodes(root):\n",
        "    current = root\n",
        "    while current:\n",
        "        print(current.val, end=\" → \")\n",
        "        current = current.next\n",
        "    print(\"-1\")"
      ],
      "metadata": {
        "id": "PX0YBUSjueAl"
      },
      "execution_count": 9,
      "outputs": []
    },
    {
      "cell_type": "code",
      "source": [
        "root = Node(1)\n",
        "root.left = Node(2)\n",
        "root.right = Node(3)\n",
        "root.left.left = Node(4)\n",
        "root.left.right = Node(5)\n",
        "root.right.left = Node(6)\n",
        "root.right.right = Node(7)\n",
        "\n",
        "print(\"Input:\")\n",
        "print(\"         1\")\n",
        "print(\"        / \\\\\")\n",
        "print(\"      2     3\")\n",
        "print(\"     / \\\\   / \\\\\")\n",
        "print(\"    4   5 6   7\")\n",
        "\n",
        "connectNodes(root)\n",
        "\n",
        "print(\"\\nOutput:\")\n",
        "printConnectedNodes(root)"
      ],
      "metadata": {
        "colab": {
          "base_uri": "https://localhost:8080/"
        },
        "id": "aMp5ORLDutE8",
        "outputId": "dbed7c0e-3d26-405c-a3b1-fe75227c2ac2"
      },
      "execution_count": 12,
      "outputs": [
        {
          "output_type": "stream",
          "name": "stdout",
          "text": [
            "Input:\n",
            "         1\n",
            "        / \\\n",
            "      2     3\n",
            "     / \\   / \\\n",
            "    4   5 6   7\n",
            "\n",
            "Output:\n",
            "1 → -1\n"
          ]
        }
      ]
    },
    {
      "cell_type": "code",
      "source": [],
      "metadata": {
        "id": "LsSt3hFouwQh"
      },
      "execution_count": null,
      "outputs": []
    }
  ]
}