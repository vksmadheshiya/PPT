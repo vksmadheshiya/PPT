{
 "cells": [
  {
   "cell_type": "markdown",
   "metadata": {},
   "source": [
    "1. Data Ingestion Pipeline:"
   ]
  },
{
   "cell_type": "markdown",
   "metadata": {},
   "source": [
    "a. Design a data ingestion pipeline that collects and stores data from various sources such as databases, APIs, and streaming platforms.\n",
    "\n",
    "**ANS:**"
   ]
  },
{
   "cell_type": "markdown",
   "metadata": {},
   "source": [
    "b. Implement a real-time data ingestion pipeline for processing sensor data from IoT devices.\n",
    "\n",
    "**ANS:**"
   ]
  },
{
   "cell_type": "markdown",
   "metadata": {},
   "source": [
    "c. Develop a data ingestion pipeline that handles data from different file formats (CSV, JSON, etc.) and performs data validation and cleansing.\n",
    "\n",
    "**ANS:**"
   ]
  },
{
   "cell_type": "markdown",
   "metadata": {},
   "source": [
    "2. Model Training:\n",
    "\n",
    "**ANS:**"
   ]
  },
{
   "cell_type": "markdown",
   "metadata": {},
   "source": [
    "a. Build a machine learning model to predict customer churn based on a given dataset. Train the model using appropriate algorithms and evaluate its performance.\n",
    "\n",
    "**ANS:**"
   ]
  },
{
   "cell_type": "markdown",
   "metadata": {},
   "source": [
    "b. Develop a model training pipeline that incorporates feature engineering techniques such as one-hot encoding, feature scaling, and dimensionality reduction.\n",
    "\n",
    "**ANS:**"
   ]
  },
{
   "cell_type": "markdown",
   "metadata": {},
   "source": [
    "c. Train a deep learning model for image classification using transfer learning and fine-tuning techniques.\n",
    "\n",
    "**ANS:**"
   ]
  },
{
   "cell_type": "markdown",
   "metadata": {},
   "source": [
    "3. Model Validation:\n",
    "\n",
    "**ANS:**"
   ]
  },
{
   "cell_type": "markdown",
   "metadata": {},
   "source": [
    "a. Implement cross-validation to evaluate the performance of a regression model for predicting housing prices.\n",
    "\n",
    "**ANS:**"
   ]
  },
{
   "cell_type": "markdown",
   "metadata": {},
   "source": [
    "b. Perform model validation using different evaluation metrics such as accuracy, precision, recall, and F1 score for a binary classification problem.\n",
    "\n",
    "**ANS:**"
   ]
  },
{
   "cell_type": "markdown",
   "metadata": {},
   "source": [
    "c. Design a model validation strategy that incorporates stratified sampling to handle imbalanced datasets.\n",
    "\n",
    "**ANS:**"
   ]
  },
{
   "cell_type": "markdown",
   "metadata": {},
   "source": [
    "4. Deployment Strategy:\n",
    "\n",
    "**ANS:**"
   ]
  },
{
   "cell_type": "markdown",
   "metadata": {},
   "source": [
    "a. Create a deployment strategy for a machine learning model that provides real-time recommendations based on user interactions.\n",
    "\n",
    "**ANS:**"
   ]
  },
{
   "cell_type": "markdown",
   "metadata": {},
   "source": [
    "b. Develop a deployment pipeline that automates the process of deploying machine learning models to cloud platforms such as AWS or Azure.\n",
    "\n",
    "**ANS:**"
   ]
  },
{
   "cell_type": "markdown",
   "metadata": {},
   "source": [
    "c. Design a monitoring and maintenance strategy for deployed models to ensure their performance and reliability over time.\n",
    "\n",
    "**ANS:**"
   ]
  }

 ],
 "metadata": {
  "language_info": {
   "name": "python"
  },
  "orig_nbformat": 4
 },
 "nbformat": 4,
 "nbformat_minor": 2
}
