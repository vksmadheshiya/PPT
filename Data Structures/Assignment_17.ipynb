{
  "nbformat": 4,
  "nbformat_minor": 0,
  "metadata": {
    "colab": {
      "provenance": [],
      "authorship_tag": "ABX9TyPe57WhjIqZUfU8iFo1amTG",
      "include_colab_link": true
    },
    "kernelspec": {
      "name": "python3",
      "display_name": "Python 3"
    },
    "language_info": {
      "name": "python"
    }
  },
  "cells": [
    {
      "cell_type": "markdown",
      "metadata": {
        "id": "view-in-github",
        "colab_type": "text"
      },
      "source": [
        "<a href=\"https://colab.research.google.com/github/jayant3297/Pre_Placement_Training/blob/main/Assignment17.ipynb\" target=\"_parent\"><img src=\"https://colab.research.google.com/assets/colab-badge.svg\" alt=\"Open In Colab\"/></a>"
      ]
    },
    {
      "cell_type": "markdown",
      "source": [
        "<aside>\n",
        "💡 **Question 1**\n",
        "\n",
        "Given a string `s`, *find the first non-repeating character in it and return its index*. If it does not exist, return `-1`.\n",
        "\n",
        "**Example 1:**\n",
        "\n",
        "</aside>\n",
        "Input: s = \"leetcode\"\n",
        "Output: 0\n",
        "\n",
        "Example 2\n",
        "\n",
        "Input: s = \"loveleetcode\"\n",
        "Output: 2\n"
      ],
      "metadata": {
        "id": "VRHBMRHy6W8N"
      }
    },
    {
      "cell_type": "code",
      "execution_count": 1,
      "metadata": {
        "id": "x8EJ3Ysk4BLi"
      },
      "outputs": [],
      "source": [
        "def firstUniqChar(s):\n",
        "\n",
        "    char_count = {}\n",
        "\n",
        "\n",
        "    for char in s:\n",
        "        if char in char_count:\n",
        "            char_count[char] += 1\n",
        "        else:\n",
        "            char_count[char] = 1\n",
        "\n",
        "    # Find the first non-repeating character\n",
        "    for i in range(len(s)):\n",
        "        if char_count[s[i]] == 1:\n",
        "            return i\n",
        "\n",
        "    # If no non-repeating character is found, return -1\n",
        "    return -1"
      ]
    },
    {
      "cell_type": "code",
      "source": [
        "# Test Example 1\n",
        "s = \"leetcode\"\n",
        "print(firstUniqChar(s))\n",
        "\n",
        "# Test Example 2\n",
        "s = \"loveleetcode\"\n",
        "print(firstUniqChar(s))"
      ],
      "metadata": {
        "colab": {
          "base_uri": "https://localhost:8080/"
        },
        "id": "WLEe4_RH6mBp",
        "outputId": "9d19d095-bf98-4df4-bf45-98e253c571f4"
      },
      "execution_count": 2,
      "outputs": [
        {
          "output_type": "stream",
          "name": "stdout",
          "text": [
            "0\n",
            "2\n"
          ]
        }
      ]
    },
    {
      "cell_type": "markdown",
      "source": [
        "<aside>\n",
        "💡 **Question 2**\n",
        "\n",
        "Given a **circular integer array** `nums` of length `n`, return *the maximum possible sum of a non-empty **subarray** of* `nums`.\n",
        "\n",
        "A **circular array** means the end of the array connects to the beginning of the array. Formally, the next element of `nums[i]` is `nums[(i + 1) % n]` and the previous element of `nums[i]` is `nums[(i - 1 + n) % n]`.\n",
        "\n",
        "A **subarray** may only include each element of the fixed buffer `nums` at most once. Formally, for a subarray `nums[i], nums[i + 1], ..., nums[j]`, there does not exist `i <= k1`, `k2 <= j` with `k1 % n == k2 % n`.\n",
        "\n",
        "**Example 1:**\n",
        "\n",
        "</aside>\n",
        "\n",
        "Input: nums = [1,-2,3,-2]\n",
        "Output: 3\n",
        "Explanation: Subarray [3] has maximum sum 3.\n",
        "\n",
        "Example 2:\n",
        "Input: nums = [5,-3,5]\n",
        "Output: 10\n",
        "Explanation: Subarray [5,5] has maximum sum 5 + 5 = 10.\n",
        "\n"
      ],
      "metadata": {
        "id": "PUZMMWnY6yL_"
      }
    },
    {
      "cell_type": "code",
      "source": [
        "def maxSubarraySumCircular(nums):\n",
        "    def kadane(arr):\n",
        "        max_sum = float('-inf')\n",
        "        current_sum = 0\n",
        "\n",
        "        for num in arr:\n",
        "            current_sum = max(num, current_sum + num)\n",
        "            max_sum = max(max_sum, current_sum)\n",
        "\n",
        "        return max_sum\n",
        "\n",
        "    # Case 1: Maximum subarray sum without circular property\n",
        "    max_sum_normal = kadane(nums)\n",
        "\n",
        "    # Case 2: Maximum subarray sum with circular property\n",
        "    max_sum_circular = sum(nums) + kadane([-num for num in nums[1:-1]])\n",
        "\n",
        "    # Return the maximum of both cases\n",
        "    return max(max_sum_normal, max_sum_circular)\n"
      ],
      "metadata": {
        "id": "l3fTw-a76qYS"
      },
      "execution_count": 5,
      "outputs": []
    },
    {
      "cell_type": "code",
      "source": [
        "# Test Example 1\n",
        "nums = [1, -2, 3, -2]\n",
        "print(maxSubarraySumCircular(nums))\n",
        "\n",
        "# Test Example 2\n",
        "nums = [5, -3, 5]\n",
        "print(maxSubarraySumCircular(nums))"
      ],
      "metadata": {
        "colab": {
          "base_uri": "https://localhost:8080/"
        },
        "id": "BmOYWpN_7B-z",
        "outputId": "32eb4da5-7c8f-46e6-a021-c64fb7ae8eff"
      },
      "execution_count": 6,
      "outputs": [
        {
          "output_type": "stream",
          "name": "stdout",
          "text": [
            "3\n",
            "10\n"
          ]
        }
      ]
    },
    {
      "cell_type": "markdown",
      "source": [
        "<aside>\n",
        "💡 **Question 3**\n",
        "\n",
        "The school cafeteria offers circular and square sandwiches at lunch break, referred to by numbers `0` and `1` respectively. All students stand in a queue. Each student either prefers square or circular sandwiches.\n",
        "\n",
        "The number of sandwiches in the cafeteria is equal to the number of students. The sandwiches are placed in a **stack**. At each step:\n",
        "\n",
        "- If the student at the front of the queue **prefers** the sandwich on the top of the stack, they will **take it** and leave the queue.\n",
        "- Otherwise, they will **leave it** and go to the queue's end.\n",
        "\n",
        "This continues until none of the queue students want to take the top sandwich and are thus unable to eat.\n",
        "\n",
        "You are given two integer arrays `students` and `sandwiches` where `sandwiches[i]` is the type of the `ith` sandwich in the stack (`i = 0` is the top of the stack) and `students[j]` is the preference of the `jth` student in the initial queue (`j = 0` is the front of the queue). Return *the number of students that are unable to eat.*\n",
        "\n",
        "**Example 1:**\n",
        "\n",
        "</aside>\n",
        "\n",
        "Input: students = [1,1,0,0], sandwiches = [0,1,0,1]\n",
        "Output: 0\n",
        "Explanation:\n",
        "- Front student leaves the top sandwich and returns to the end of the line making students = [1,0,0,1].\n",
        "- Front student leaves the top sandwich and returns to the end of the line making students = [0,0,1,1].\n",
        "- Front student takes the top sandwich and leaves the line making students = [0,1,1] and sandwiches = [1,0,1].\n",
        "- Front student leaves the top sandwich and returns to the end of the line making students = [1,1,0].\n",
        "- Front student takes the top sandwich and leaves the line making students = [1,0] and sandwiches = [0,1].\n",
        "- Front student leaves the top sandwich and returns to the end of the line making students = [0,1].\n",
        "- Front student takes the top sandwich and leaves the line making students = [1] and sandwiches = [1].\n",
        "- Front student takes the top sandwich and leaves the line making students = [] and sandwiches = [].\n",
        "Hence all students are able to eat.\n"
      ],
      "metadata": {
        "id": "u_mPSdVy7gTX"
      }
    },
    {
      "cell_type": "code",
      "source": [
        "def countStudents(students, sandwiches):\n",
        "    count = 0  # Counter for students unable to eat\n",
        "    n = len(students)\n",
        "    i = 0  # Index for iterating through students\n",
        "    j = 0  # Index for iterating through sandwiches\n",
        "\n",
        "    while count < n:\n",
        "        if students[i] == sandwiches[j]:\n",
        "            count = 0  # Reset the counter since the student got their preferred sandwich\n",
        "            i += 1  # Move to the next student\n",
        "            j += 1  # Move to the next sandwich\n",
        "        else:\n",
        "            count += 1  # Increment the counter for students unable to eat\n",
        "            i += 1  # Move the current student to the end of the queue\n",
        "\n",
        "        if i == n:  # Reached the end of the queue, wrap around to the beginning\n",
        "            i = 0\n",
        "\n",
        "        if j == n:  # Reached the end of the sandwich stack, all students were able to eat\n",
        "            return 0\n",
        "\n",
        "    return count"
      ],
      "metadata": {
        "id": "tfxzxUBp7GWk"
      },
      "execution_count": 7,
      "outputs": []
    },
    {
      "cell_type": "code",
      "source": [
        "students = [1, 1, 0, 0]\n",
        "sandwiches = [0, 1, 0, 1]\n",
        "print(countStudents(students, sandwiches))"
      ],
      "metadata": {
        "colab": {
          "base_uri": "https://localhost:8080/"
        },
        "id": "4WF7fqWl9MJJ",
        "outputId": "ac48e6fd-0ff4-480c-d0e7-49d7558f0846"
      },
      "execution_count": 8,
      "outputs": [
        {
          "output_type": "stream",
          "name": "stdout",
          "text": [
            "0\n"
          ]
        }
      ]
    },
    {
      "cell_type": "markdown",
      "source": [
        "<aside>\n",
        "💡 **Question 4**\n",
        "\n",
        "You have a `RecentCounter` class which counts the number of recent requests within a certain time frame.\n",
        "\n",
        "Implement the `RecentCounter` class:\n",
        "\n",
        "- `RecentCounter()` Initializes the counter with zero recent requests.\n",
        "- `int ping(int t)` Adds a new request at time `t`, where `t` represents some time in milliseconds, and returns the number of requests that has happened in the past `3000` milliseconds (including the new request). Specifically, return the number of requests that have happened in the inclusive range `[t - 3000, t]`.\n",
        "\n",
        "It is **guaranteed** that every call to `ping` uses a strictly larger value of `t` than the previous call.\n",
        "\n",
        "**Example 1:**\n",
        "\n",
        "</aside>\n",
        "\n",
        "Input\n",
        "[\"RecentCounter\", \"ping\", \"ping\", \"ping\", \"ping\"]\n",
        "[[], [1], [100], [3001], [3002]]\n",
        "Output\n",
        "[null, 1, 2, 3, 3]\n",
        "\n",
        "Explanation\n",
        "RecentCounter recentCounter = new RecentCounter();\n",
        "recentCounter.ping(1);     // requests = [1], range is [-2999,1], return 1\n",
        "recentCounter.ping(100);   // requests = [1,100], range is [-2900,100], return 2\n",
        "recentCounter.ping(3001);  // requests = [1,100,3001], range is [1,3001], return 3\n",
        "recentCounter.ping(3002);  // requests = [1,100,3001,3002], range is [2,3002], return 3"
      ],
      "metadata": {
        "id": "4usZJ0oc_amx"
      }
    },
    {
      "cell_type": "code",
      "source": [
        "from collections import deque\n",
        "\n",
        "\n",
        "class RecentCounter:\n",
        "    def __init__(self):\n",
        "        self.requests = deque()\n",
        "\n",
        "    def ping(self, t: int) -> int:\n",
        "        self.requests.append(t)  # Add the new request to the queue\n",
        "\n",
        "        while self.requests[0] < t - 3000:  # Remove requests outside the time range\n",
        "            self.requests.popleft()\n",
        "\n",
        "        return len(self.requests)"
      ],
      "metadata": {
        "id": "ZtuXeLQX9POa"
      },
      "execution_count": 13,
      "outputs": []
    },
    {
      "cell_type": "code",
      "source": [
        "recentCounter = RecentCounter()\n",
        "print(recentCounter.ping(1))\n",
        "print(recentCounter.ping(100))\n",
        "print(recentCounter.ping(3001))\n",
        "print(recentCounter.ping(3002))"
      ],
      "metadata": {
        "colab": {
          "base_uri": "https://localhost:8080/"
        },
        "id": "n1hmE3SU_uwH",
        "outputId": "bafd315b-851b-491c-f676-246d20ab27b4"
      },
      "execution_count": 14,
      "outputs": [
        {
          "output_type": "stream",
          "name": "stdout",
          "text": [
            "1\n",
            "2\n",
            "3\n",
            "3\n"
          ]
        }
      ]
    },
    {
      "cell_type": "markdown",
      "source": [
        "<aside>\n",
        "💡 **Question 5**\n",
        "\n",
        "There are `n` friends that are playing a game. The friends are sitting in a circle and are numbered from `1` to `n` in **clockwise order**. More formally, moving clockwise from the `ith` friend brings you to the `(i+1)th` friend for `1 <= i < n`, and moving clockwise from the `nth` friend brings you to the `1st` friend.\n",
        "\n",
        "The rules of the game are as follows:\n",
        "\n",
        "1. **Start** at the `1st` friend.\n",
        "2. Count the next `k` friends in the clockwise direction **including** the friend you started at. The counting wraps around the circle and may count some friends more than once.\n",
        "3. The last friend you counted leaves the circle and loses the game.\n",
        "4. If there is still more than one friend in the circle, go back to step `2` **starting** from the friend **immediately clockwise** of the friend who just lost and repeat.\n",
        "5. Else, the last friend in the circle wins the game.\n",
        "\n",
        "Given the number of friends, `n`, and an integer `k`, return *the winner of the game*.\n",
        "\n",
        "**Example 1:**\n",
        "\n",
        "</aside>\n",
        "\n",
        "Input: n = 5, k = 2\n",
        "Output: 3\n",
        "Explanation: Here are the steps of the game:\n",
        "1) Start at friend 1.\n",
        "2) Count 2 friends clockwise, which are friends 1 and 2.\n",
        "3) Friend 2 leaves the circle. Next start is friend 3.\n",
        "4) Count 2 friends clockwise, which are friends 3 and 4.\n",
        "5) Friend 4 leaves the circle. Next start is friend 5.\n",
        "6) Count 2 friends clockwise, which are friends 5 and 1.\n",
        "7) Friend 1 leaves the circle. Next start is friend 3.\n",
        "8) Count 2 friends clockwise, which are friends 3 and 5.\n",
        "9) Friend 5 leaves the circle. Only friend 3 is left, so they are the winner."
      ],
      "metadata": {
        "id": "RT0HiccYAZJ8"
      }
    },
    {
      "cell_type": "code",
      "source": [
        "class ListNode:\n",
        "    def __init__(self, val=0):\n",
        "        self.val = val\n",
        "        self.next = None\n",
        "\n",
        "def findTheWinner(n, k):\n",
        "    # Create the circular linked list with n nodes\n",
        "    head = ListNode(1)\n",
        "    current = head\n",
        "    for i in range(2, n+1):\n",
        "        current.next = ListNode(i)\n",
        "        current = current.next\n",
        "    current.next = head  # Make it circular\n",
        "\n",
        "    # Traverse the linked list and remove friends until only one is left\n",
        "    while current.next != current:\n",
        "        # Move k-1 steps\n",
        "        for _ in range(k - 1):\n",
        "            current = current.next\n",
        "        # Remove the next friend\n",
        "        current.next = current.next.next\n",
        "\n",
        "    return current.val"
      ],
      "metadata": {
        "id": "4odV0IMJ_z76"
      },
      "execution_count": 15,
      "outputs": []
    },
    {
      "cell_type": "code",
      "source": [
        "# Test Example\n",
        "n = 5\n",
        "k = 2\n",
        "winner = findTheWinner(n, k)\n",
        "print(winner)"
      ],
      "metadata": {
        "colab": {
          "base_uri": "https://localhost:8080/"
        },
        "id": "9_D1saeHBKGh",
        "outputId": "87a77706-1c67-491d-9ecc-352bb1b8cb29"
      },
      "execution_count": 16,
      "outputs": [
        {
          "output_type": "stream",
          "name": "stdout",
          "text": [
            "3\n"
          ]
        }
      ]
    },
    {
      "cell_type": "markdown",
      "source": [
        "<aside>\n",
        "💡 **Question 6**\n",
        "\n",
        "You are given an integer array `deck`. There is a deck of cards where every card has a unique integer. The integer on the `ith` card is `deck[i]`.\n",
        "\n",
        "You can order the deck in any order you want. Initially, all the cards start face down (unrevealed) in one deck.\n",
        "\n",
        "You will do the following steps repeatedly until all cards are revealed:\n",
        "\n",
        "1. Take the top card of the deck, reveal it, and take it out of the deck.\n",
        "2. If there are still cards in the deck then put the next top card of the deck at the bottom of the deck.\n",
        "3. If there are still unrevealed cards, go back to step 1. Otherwise, stop.\n",
        "\n",
        "Return *an ordering of the deck that would reveal the cards in increasing order*.\n",
        "\n",
        "**Note** that the first entry in the answer is considered to be the top of the deck.\n",
        "\n",
        "**Example 1:**\n",
        "\n",
        "</aside>\n",
        "Input: deck = [17,13,11,2,3,5,7]\n",
        "Output: [2,13,3,11,5,17,7]\n",
        "Explanation:\n",
        "We get the deck in the order [17,13,11,2,3,5,7] (this order does not matter), and reorder it.\n",
        "After reordering, the deck starts as [2,13,3,11,5,17,7], where 2 is the top of the deck.\n",
        "We reveal 2, and move 13 to the bottom.  The deck is now [3,11,5,17,7,13].\n",
        "We reveal 3, and move 11 to the bottom.  The deck is now [5,17,7,13,11].\n",
        "We reveal 5, and move 17 to the bottom.  The deck is now [7,13,11,17].\n",
        "We reveal 7, and move 13 to the bottom.  The deck is now [11,17,13].\n",
        "We reveal 11, and move 17 to the bottom.  The deck is now [13,17].\n",
        "We reveal 13, and move 17 to the bottom.  The deck is now [17].\n",
        "We reveal 17.\n",
        "Since all the cards revealed are in increasing order, the answer is correct.\n"
      ],
      "metadata": {
        "id": "00-ZPMdWBVTG"
      }
    },
    {
      "cell_type": "code",
      "source": [
        "from collections import deque\n",
        "import math\n",
        "\n",
        "def deckRevealedIncreasing(deck):\n",
        "    n = len(deck)\n",
        "    deck.sort()\n",
        "    queue = deque(range(n))\n",
        "    result = [0] * n\n",
        "\n",
        "    for card in deck:\n",
        "        result[queue.popleft()] = card\n",
        "        if queue:\n",
        "            queue.append(queue.popleft())\n",
        "\n",
        "    return result\n",
        "\n"
      ],
      "metadata": {
        "id": "Hj64KnEiBU83"
      },
      "execution_count": 19,
      "outputs": []
    },
    {
      "cell_type": "code",
      "source": [
        "# Test Example\n",
        "deck = [17, 13, 11, 2, 3, 5, 7]\n",
        "result = deckRevealedIncreasing(deck)\n",
        "print(result)"
      ],
      "metadata": {
        "colab": {
          "base_uri": "https://localhost:8080/"
        },
        "id": "aEdAa6RlBT_e",
        "outputId": "a878f750-0386-4553-a87d-7b24c1b0f635"
      },
      "execution_count": 20,
      "outputs": [
        {
          "output_type": "stream",
          "name": "stdout",
          "text": [
            "[2, 13, 3, 11, 5, 17, 7]\n"
          ]
        }
      ]
    },
    {
      "cell_type": "markdown",
      "source": [
        "<aside>\n",
        "💡 **Question 7**\n",
        "\n",
        "Design a queue that supports `push` and `pop` operations in the front, middle, and back.\n",
        "\n",
        "Implement the `FrontMiddleBack` class:\n",
        "\n",
        "- `FrontMiddleBack()` Initializes the queue.\n",
        "- `void pushFront(int val)` Adds `val` to the **front** of the queue.\n",
        "- `void pushMiddle(int val)` Adds `val` to the **middle** of the queue.\n",
        "- `void pushBack(int val)` Adds `val` to the **back** of the queue.\n",
        "- `int popFront()` Removes the **front** element of the queue and returns it. If the queue is empty, return `1`.\n",
        "- `int popMiddle()` Removes the **middle** element of the queue and returns it. If the queue is empty, return `1`.\n",
        "- `int popBack()` Removes the **back** element of the queue and returns it. If the queue is empty, return `1`.\n",
        "\n",
        "**Notice** that when there are **two** middle position choices, the operation is performed on the **frontmost** middle position choice. For example:\n",
        "\n",
        "- Pushing `6` into the middle of `[1, 2, 3, 4, 5]` results in `[1, 2, 6, 3, 4, 5]`.\n",
        "- Popping the middle from `[1, 2, 3, 4, 5, 6]` returns `3` and results in `[1, 2, 4, 5, 6]`.\n",
        "\n",
        "**Example 1:**\n",
        "\n",
        "</aside>\n",
        "\n",
        "Input:\n",
        "[\"FrontMiddleBackQueue\", \"pushFront\", \"pushBack\", \"pushMiddle\", \"pushMiddle\", \"popFront\", \"popMiddle\", \"popMiddle\", \"popBack\", \"popFront\"]\n",
        "[[], [1], [2], [3], [4], [], [], [], [], []]\n",
        "Output:\n",
        "[null, null, null, null, null, 1, 3, 4, 2, -1]\n",
        "\n",
        "Explanation:\n",
        "FrontMiddleBackQueue q = new FrontMiddleBackQueue();\n",
        "q.pushFront(1);   // [1]\n",
        "q.pushBack(2);    // [1,2]\n",
        "q.pushMiddle(3);  // [1,3, 2]\n",
        "q.pushMiddle(4);  // [1,4, 3, 2]\n",
        "q.popFront();     // return 1 -> [4, 3, 2]\n",
        "q.popMiddle();    // return 3 -> [4, 2]\n",
        "q.popMiddle();    // return 4 -> [2]\n",
        "q.popBack();      // return 2 -> []\n",
        "q.popFront();     // return -1 -> [] (The queue is empty)"
      ],
      "metadata": {
        "id": "P9cCFloPCS4V"
      }
    },
    {
      "cell_type": "code",
      "source": [
        "from collections import deque\n",
        "\n",
        "class FrontMiddleBackQueue:\n",
        "    def __init__(self):\n",
        "        self.queue = deque()\n",
        "\n",
        "    def pushFront(self, val):\n",
        "        self.queue.appendleft(val)\n",
        "\n",
        "    def pushMiddle(self, val):\n",
        "        middle = len(self.queue) // 2\n",
        "        self.queue.insert(middle, val)\n",
        "\n",
        "    def pushBack(self, val):\n",
        "        self.queue.append(val)\n",
        "\n",
        "    def popFront(self):\n",
        "        if self.queue:\n",
        "            return self.queue.popleft()\n",
        "        return -1\n",
        "\n",
        "    def popMiddle(self):\n",
        "        if self.queue:\n",
        "            middle = (len(self.queue) - 1) // 2\n",
        "            self.queue.rotate(-middle)\n",
        "            return self.queue.popleft()\n",
        "        return -1\n",
        "\n",
        "    def popBack(self):\n",
        "        if self.queue:\n",
        "            return self.queue.pop()\n",
        "        return -1"
      ],
      "metadata": {
        "id": "dhZY9GSXBNf1"
      },
      "execution_count": 25,
      "outputs": []
    },
    {
      "cell_type": "code",
      "source": [
        "commands = [\"FrontMiddleBackQueue\", \"pushFront\", \"pushBack\", \"pushMiddle\", \"pushMiddle\", \"popFront\", \"popMiddle\", \"popMiddle\", \"popBack\", \"popFront\"]\n",
        "arguments = [[], [1], [2], [3], [4], [], [], [], [], []]\n",
        "\n",
        "q = FrontMiddleBackQueue()\n",
        "output = [None]\n",
        "\n",
        "for command, args in zip(commands[1:], arguments[1:]):\n",
        "    if command == \"pushFront\":\n",
        "        q.pushFront(*args)\n",
        "        output.append(None)\n",
        "    elif command == \"pushMiddle\":\n",
        "        q.pushMiddle(*args)\n",
        "        output.append(None)\n",
        "    elif command == \"pushBack\":\n",
        "        q.pushBack(*args)\n",
        "        output.append(None)\n",
        "    elif command == \"popFront\":\n",
        "        output.append(q.popFront())\n",
        "    elif command == \"popMiddle\":\n",
        "        output.append(q.popMiddle())\n",
        "    elif command == \"popBack\":\n",
        "        output.append(q.popBack())\n",
        "\n",
        "print(\"Output:\")\n",
        "print(output)"
      ],
      "metadata": {
        "colab": {
          "base_uri": "https://localhost:8080/"
        },
        "id": "sVbV8thbClHB",
        "outputId": "0e632a7f-c6b7-4ea6-a7d9-02bd08efb497"
      },
      "execution_count": 26,
      "outputs": [
        {
          "output_type": "stream",
          "name": "stdout",
          "text": [
            "Output:\n",
            "[None, None, None, None, None, 1, 3, 2, 4, -1]\n"
          ]
        }
      ]
    },
    {
      "cell_type": "markdown",
      "source": [
        "<aside>\n",
        "💡 **Question 8**\n",
        "\n",
        "For a stream of integers, implement a data structure that checks if the last `k` integers parsed in the stream are **equal** to `value`.\n",
        "\n",
        "Implement the **DataStream** class:\n",
        "\n",
        "- `DataStream(int value, int k)` Initializes the object with an empty integer stream and the two integers `value` and `k`.\n",
        "- `boolean consec(int num)` Adds `num` to the stream of integers. Returns `true` if the last `k` integers are equal to `value`, and `false` otherwise. If there are less than `k` integers, the condition does not hold true, so returns `false`.\n",
        "\n",
        "**Example 1:*\n",
        "Input\n",
        "[\"DataStream\", \"consec\", \"consec\", \"consec\", \"consec\"]\n",
        "[[4, 3], [4], [4], [4], [3]]\n",
        "Output\n",
        "[null, false, false, true, false]\n",
        "\n",
        "Explanation\n",
        "DataStream dataStream = new DataStream(4, 3); //value = 4, k = 3\n",
        "dataStream.consec(4); // Only 1 integer is parsed, so returns False.\n",
        "dataStream.consec(4); // Only 2 integers are parsed.\n",
        "                      // Since 2 is less than k, returns False.\n",
        "dataStream.consec(4); // The 3 integers parsed are all equal to value, so returns True.\n",
        "dataStream.consec(3); // The last k integers parsed in the stream are [4,4,3].\n",
        "                      // Since 3 is not equal to value, it returns False.\n",
        "\n",
        "</aside>"
      ],
      "metadata": {
        "id": "XrkaMDdAFjJ9"
      }
    },
    {
      "cell_type": "code",
      "source": [
        "from collections import deque\n",
        "\n",
        "class DataStream:\n",
        "    def __init__(self, value, k):\n",
        "        self.stream = deque()\n",
        "        self.value = value\n",
        "        self.k = k\n",
        "\n",
        "    def consec(self, num):\n",
        "        self.stream.append(num)\n",
        "        if len(self.stream) < self.k:\n",
        "            return False\n",
        "        if len(self.stream) > self.k:\n",
        "            self.stream.popleft()\n",
        "        return all(x == self.value for x in self.stream)"
      ],
      "metadata": {
        "id": "XUc8I3QsDiMa"
      },
      "execution_count": 27,
      "outputs": []
    },
    {
      "cell_type": "code",
      "source": [
        "commands = [\"DataStream\", \"consec\", \"consec\", \"consec\", \"consec\"]\n",
        "arguments = [[4, 3], [4], [4], [4], [3]]\n",
        "\n",
        "dataStream = DataStream(*arguments[0])\n",
        "output = [None]\n",
        "\n",
        "for command, args in zip(commands[1:], arguments[1:]):\n",
        "    if command == \"consec\":\n",
        "        output.append(dataStream.consec(*args))\n",
        "\n",
        "print(\"Output:\")\n",
        "print(output)"
      ],
      "metadata": {
        "colab": {
          "base_uri": "https://localhost:8080/"
        },
        "id": "1qDtC6dCGOdm",
        "outputId": "1b07edfd-0ea1-43af-a152-6249beb9f11e"
      },
      "execution_count": 28,
      "outputs": [
        {
          "output_type": "stream",
          "name": "stdout",
          "text": [
            "Output:\n",
            "[None, False, False, True, False]\n"
          ]
        }
      ]
    },
    {
      "cell_type": "code",
      "source": [],
      "metadata": {
        "id": "aweJDvfTGUHC"
      },
      "execution_count": null,
      "outputs": []
    }
  ]
}